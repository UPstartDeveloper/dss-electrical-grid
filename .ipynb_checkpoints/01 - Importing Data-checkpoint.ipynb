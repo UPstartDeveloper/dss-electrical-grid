{
 "cells": [
  {
   "cell_type": "markdown",
   "metadata": {},
   "source": [
    "# Importing Data"
   ]
  },
  {
   "cell_type": "markdown",
   "metadata": {},
   "source": [
    "First, let's import and format the data in our notebook. We'll start with the data on electricity consumption.\n",
    "\n",
    "This data is in the form of excel sheets (.xls), so we should be able to use the pandas .ExcelFile function to import the data."
   ]
  },
  {
   "cell_type": "code",
   "execution_count": 1,
   "metadata": {},
   "outputs": [],
   "source": [
    "import pandas as pd\n",
    "import numpy as np\n",
    "import matplotlib.pyplot as plt\n",
    "%matplotlib inline"
   ]
  },
  {
   "cell_type": "code",
   "execution_count": 50,
   "metadata": {},
   "outputs": [],
   "source": [
    "import datetime as dt"
   ]
  },
  {
   "cell_type": "code",
   "execution_count": 2,
   "metadata": {},
   "outputs": [],
   "source": [
    "xl_2002 = pd.ExcelFile('./Data/Consumption/2002_ERCOT_Hourly_Load_Data.xls')"
   ]
  },
  {
   "cell_type": "code",
   "execution_count": 3,
   "metadata": {},
   "outputs": [
    {
     "name": "stdout",
     "output_type": "stream",
     "text": [
      "['native_Load_2002']\n"
     ]
    }
   ],
   "source": [
    "print(xl_2002.sheet_names)"
   ]
  },
  {
   "cell_type": "code",
   "execution_count": 4,
   "metadata": {},
   "outputs": [],
   "source": [
    "cons_2002 = xl_2002.parse('native_Load_2002')"
   ]
  },
  {
   "cell_type": "code",
   "execution_count": 5,
   "metadata": {},
   "outputs": [
    {
     "data": {
      "text/html": [
       "<div>\n",
       "<style scoped>\n",
       "    .dataframe tbody tr th:only-of-type {\n",
       "        vertical-align: middle;\n",
       "    }\n",
       "\n",
       "    .dataframe tbody tr th {\n",
       "        vertical-align: top;\n",
       "    }\n",
       "\n",
       "    .dataframe thead th {\n",
       "        text-align: right;\n",
       "    }\n",
       "</style>\n",
       "<table border=\"1\" class=\"dataframe\">\n",
       "  <thead>\n",
       "    <tr style=\"text-align: right;\">\n",
       "      <th></th>\n",
       "      <th>Hour_End</th>\n",
       "      <th>COAST</th>\n",
       "      <th>EAST</th>\n",
       "      <th>FAR_WEST</th>\n",
       "      <th>NORTH</th>\n",
       "      <th>NORTH_C</th>\n",
       "      <th>SOUTHERN</th>\n",
       "      <th>SOUTH_C</th>\n",
       "      <th>WEST</th>\n",
       "      <th>ERCOT</th>\n",
       "    </tr>\n",
       "  </thead>\n",
       "  <tbody>\n",
       "    <tr>\n",
       "      <th>8755</th>\n",
       "      <td>2002-12-31 20:00:00</td>\n",
       "      <td>8147.901709</td>\n",
       "      <td>1212.388093</td>\n",
       "      <td>1102.019116</td>\n",
       "      <td>1025.511727</td>\n",
       "      <td>10340.550087</td>\n",
       "      <td>2142.370628</td>\n",
       "      <td>4704.499036</td>\n",
       "      <td>831.445283</td>\n",
       "      <td>29506.685679</td>\n",
       "    </tr>\n",
       "    <tr>\n",
       "      <th>8756</th>\n",
       "      <td>2002-12-31 21:00:00</td>\n",
       "      <td>7979.696214</td>\n",
       "      <td>1179.092793</td>\n",
       "      <td>1079.133364</td>\n",
       "      <td>995.467557</td>\n",
       "      <td>9973.346014</td>\n",
       "      <td>2088.368682</td>\n",
       "      <td>4542.054827</td>\n",
       "      <td>814.855029</td>\n",
       "      <td>28652.014481</td>\n",
       "    </tr>\n",
       "    <tr>\n",
       "      <th>8757</th>\n",
       "      <td>2002-12-31 22:00:00</td>\n",
       "      <td>7739.078350</td>\n",
       "      <td>1130.887905</td>\n",
       "      <td>1064.220699</td>\n",
       "      <td>968.681093</td>\n",
       "      <td>9702.505576</td>\n",
       "      <td>2012.524138</td>\n",
       "      <td>4412.336834</td>\n",
       "      <td>801.963983</td>\n",
       "      <td>27832.198579</td>\n",
       "    </tr>\n",
       "    <tr>\n",
       "      <th>8758</th>\n",
       "      <td>2002-12-31 23:00:00</td>\n",
       "      <td>7545.696137</td>\n",
       "      <td>1112.058942</td>\n",
       "      <td>1057.281233</td>\n",
       "      <td>941.885164</td>\n",
       "      <td>9367.219054</td>\n",
       "      <td>1945.962142</td>\n",
       "      <td>4311.669894</td>\n",
       "      <td>786.692540</td>\n",
       "      <td>27068.465106</td>\n",
       "    </tr>\n",
       "    <tr>\n",
       "      <th>8759</th>\n",
       "      <td>2003-01-01 00:00:00</td>\n",
       "      <td>7443.537200</td>\n",
       "      <td>1059.603660</td>\n",
       "      <td>1043.142000</td>\n",
       "      <td>920.722110</td>\n",
       "      <td>9098.186400</td>\n",
       "      <td>1878.790500</td>\n",
       "      <td>4213.323230</td>\n",
       "      <td>758.288460</td>\n",
       "      <td>26415.593560</td>\n",
       "    </tr>\n",
       "  </tbody>\n",
       "</table>\n",
       "</div>"
      ],
      "text/plain": [
       "                Hour_End        COAST         EAST     FAR_WEST        NORTH  \\\n",
       "8755 2002-12-31 20:00:00  8147.901709  1212.388093  1102.019116  1025.511727   \n",
       "8756 2002-12-31 21:00:00  7979.696214  1179.092793  1079.133364   995.467557   \n",
       "8757 2002-12-31 22:00:00  7739.078350  1130.887905  1064.220699   968.681093   \n",
       "8758 2002-12-31 23:00:00  7545.696137  1112.058942  1057.281233   941.885164   \n",
       "8759 2003-01-01 00:00:00  7443.537200  1059.603660  1043.142000   920.722110   \n",
       "\n",
       "           NORTH_C     SOUTHERN      SOUTH_C        WEST         ERCOT  \n",
       "8755  10340.550087  2142.370628  4704.499036  831.445283  29506.685679  \n",
       "8756   9973.346014  2088.368682  4542.054827  814.855029  28652.014481  \n",
       "8757   9702.505576  2012.524138  4412.336834  801.963983  27832.198579  \n",
       "8758   9367.219054  1945.962142  4311.669894  786.692540  27068.465106  \n",
       "8759   9098.186400  1878.790500  4213.323230  758.288460  26415.593560  "
      ]
     },
     "execution_count": 5,
     "metadata": {},
     "output_type": "execute_result"
    }
   ],
   "source": [
    "cons_2002.tail()"
   ]
  },
  {
   "cell_type": "code",
   "execution_count": 51,
   "metadata": {},
   "outputs": [],
   "source": [
    "cons_2002 = pd.read_csv('./Data/Consumption/2002_ERCOT_Hourly_Load_Data.csv')\n",
    "cons_2002['Time'] = cons_2002['Hour_End'].apply(lambda x: dt.datetime.strptime(x, '%m/%d/%Y %H:%M'))\n",
    "cons_2002 = cons_2002[['Hour_End','Time','COAST','EAST','FAR_WEST','NORTH','NORTH_C','SOUTHERN','SOUTH_C','WEST','ERCOT']]"
   ]
  },
  {
   "cell_type": "code",
   "execution_count": 52,
   "metadata": {},
   "outputs": [
    {
     "data": {
      "text/html": [
       "<div>\n",
       "<style scoped>\n",
       "    .dataframe tbody tr th:only-of-type {\n",
       "        vertical-align: middle;\n",
       "    }\n",
       "\n",
       "    .dataframe tbody tr th {\n",
       "        vertical-align: top;\n",
       "    }\n",
       "\n",
       "    .dataframe thead th {\n",
       "        text-align: right;\n",
       "    }\n",
       "</style>\n",
       "<table border=\"1\" class=\"dataframe\">\n",
       "  <thead>\n",
       "    <tr style=\"text-align: right;\">\n",
       "      <th></th>\n",
       "      <th>Hour_End</th>\n",
       "      <th>Time</th>\n",
       "      <th>COAST</th>\n",
       "      <th>EAST</th>\n",
       "      <th>FAR_WEST</th>\n",
       "      <th>NORTH</th>\n",
       "      <th>NORTH_C</th>\n",
       "      <th>SOUTHERN</th>\n",
       "      <th>SOUTH_C</th>\n",
       "      <th>WEST</th>\n",
       "      <th>ERCOT</th>\n",
       "    </tr>\n",
       "  </thead>\n",
       "  <tbody>\n",
       "    <tr>\n",
       "      <th>0</th>\n",
       "      <td>1/1/2002 1:00</td>\n",
       "      <td>2002-01-01 01:00:00</td>\n",
       "      <td>8331.469266</td>\n",
       "      <td>1111.096549</td>\n",
       "      <td>1094.045496</td>\n",
       "      <td>995.298392</td>\n",
       "      <td>10336.30490</td>\n",
       "      <td>2165.007571</td>\n",
       "      <td>4793.193560</td>\n",
       "      <td>843.747177</td>\n",
       "      <td>29670.16291</td>\n",
       "    </tr>\n",
       "    <tr>\n",
       "      <th>1</th>\n",
       "      <td>1/1/2002 2:00</td>\n",
       "      <td>2002-01-01 02:00:00</td>\n",
       "      <td>8107.805431</td>\n",
       "      <td>1091.481584</td>\n",
       "      <td>1083.517981</td>\n",
       "      <td>981.195477</td>\n",
       "      <td>10178.05274</td>\n",
       "      <td>2092.374118</td>\n",
       "      <td>4766.918187</td>\n",
       "      <td>835.488188</td>\n",
       "      <td>29136.83370</td>\n",
       "    </tr>\n",
       "    <tr>\n",
       "      <th>2</th>\n",
       "      <td>1/1/2002 3:00</td>\n",
       "      <td>2002-01-01 03:00:00</td>\n",
       "      <td>7890.721717</td>\n",
       "      <td>1080.257616</td>\n",
       "      <td>1085.038740</td>\n",
       "      <td>971.305257</td>\n",
       "      <td>10100.88771</td>\n",
       "      <td>2042.080714</td>\n",
       "      <td>4702.918892</td>\n",
       "      <td>830.694878</td>\n",
       "      <td>28703.90552</td>\n",
       "    </tr>\n",
       "    <tr>\n",
       "      <th>3</th>\n",
       "      <td>1/1/2002 4:00</td>\n",
       "      <td>2002-01-01 04:00:00</td>\n",
       "      <td>7799.817527</td>\n",
       "      <td>1079.726403</td>\n",
       "      <td>1093.381853</td>\n",
       "      <td>971.262963</td>\n",
       "      <td>10081.56511</td>\n",
       "      <td>2011.935791</td>\n",
       "      <td>4669.064391</td>\n",
       "      <td>835.068413</td>\n",
       "      <td>28541.82245</td>\n",
       "    </tr>\n",
       "    <tr>\n",
       "      <th>4</th>\n",
       "      <td>1/1/2002 5:00</td>\n",
       "      <td>2002-01-01 05:00:00</td>\n",
       "      <td>7815.968171</td>\n",
       "      <td>1087.934961</td>\n",
       "      <td>1106.651296</td>\n",
       "      <td>982.535591</td>\n",
       "      <td>10192.21867</td>\n",
       "      <td>2002.487678</td>\n",
       "      <td>4695.011904</td>\n",
       "      <td>848.598209</td>\n",
       "      <td>28731.40648</td>\n",
       "    </tr>\n",
       "  </tbody>\n",
       "</table>\n",
       "</div>"
      ],
      "text/plain": [
       "        Hour_End                Time        COAST         EAST     FAR_WEST  \\\n",
       "0  1/1/2002 1:00 2002-01-01 01:00:00  8331.469266  1111.096549  1094.045496   \n",
       "1  1/1/2002 2:00 2002-01-01 02:00:00  8107.805431  1091.481584  1083.517981   \n",
       "2  1/1/2002 3:00 2002-01-01 03:00:00  7890.721717  1080.257616  1085.038740   \n",
       "3  1/1/2002 4:00 2002-01-01 04:00:00  7799.817527  1079.726403  1093.381853   \n",
       "4  1/1/2002 5:00 2002-01-01 05:00:00  7815.968171  1087.934961  1106.651296   \n",
       "\n",
       "        NORTH      NORTH_C     SOUTHERN      SOUTH_C        WEST        ERCOT  \n",
       "0  995.298392  10336.30490  2165.007571  4793.193560  843.747177  29670.16291  \n",
       "1  981.195477  10178.05274  2092.374118  4766.918187  835.488188  29136.83370  \n",
       "2  971.305257  10100.88771  2042.080714  4702.918892  830.694878  28703.90552  \n",
       "3  971.262963  10081.56511  2011.935791  4669.064391  835.068413  28541.82245  \n",
       "4  982.535591  10192.21867  2002.487678  4695.011904  848.598209  28731.40648  "
      ]
     },
     "execution_count": 52,
     "metadata": {},
     "output_type": "execute_result"
    }
   ],
   "source": [
    "cons_2002.head()"
   ]
  },
  {
   "cell_type": "code",
   "execution_count": 53,
   "metadata": {},
   "outputs": [
    {
     "data": {
      "text/plain": [
       "pandas._libs.tslibs.timestamps.Timestamp"
      ]
     },
     "execution_count": 53,
     "metadata": {},
     "output_type": "execute_result"
    }
   ],
   "source": [
    "type(cons_2002['Time'][0])"
   ]
  },
  {
   "cell_type": "code",
   "execution_count": 54,
   "metadata": {
    "scrolled": true
   },
   "outputs": [
    {
     "data": {
      "text/plain": [
       "[<matplotlib.lines.Line2D at 0x1d3e39604e0>]"
      ]
     },
     "execution_count": 54,
     "metadata": {},
     "output_type": "execute_result"
    },
    {
     "data": {
      "image/png": "[encoded data removed]",
      "text/plain": [
       "<Figure size 432x288 with 1 Axes>"
      ]
     },
     "metadata": {},
     "output_type": "display_data"
    }
   ],
   "source": [
    "plt.plot(cons_2002['Time'],cons_2002['COAST'])"
   ]
  },
  {
   "cell_type": "code",
   "execution_count": 55,
   "metadata": {},
   "outputs": [],
   "source": [
    "cons_2003 = pd.read_csv('./Data/Consumption/2003_ERCOT_Hourly_Load_Data.csv')\n",
    "cons_2003['Time'] = cons_2003['Hour_End'].apply(lambda x: dt.datetime.strptime(x, '%m/%d/%Y %H:%M'))\n",
    "cons_2003 = cons_2003[['Hour_End','Time','COAST','EAST','FAR_WEST','NORTH','NORTH_C','SOUTHERN','SOUTH_C','WEST','ERCOT']]"
   ]
  },
  {
   "cell_type": "code",
   "execution_count": 56,
   "metadata": {},
   "outputs": [
    {
     "data": {
      "text/html": [
       "<div>\n",
       "<style scoped>\n",
       "    .dataframe tbody tr th:only-of-type {\n",
       "        vertical-align: middle;\n",
       "    }\n",
       "\n",
       "    .dataframe tbody tr th {\n",
       "        vertical-align: top;\n",
       "    }\n",
       "\n",
       "    .dataframe thead th {\n",
       "        text-align: right;\n",
       "    }\n",
       "</style>\n",
       "<table border=\"1\" class=\"dataframe\">\n",
       "  <thead>\n",
       "    <tr style=\"text-align: right;\">\n",
       "      <th></th>\n",
       "      <th>Hour_End</th>\n",
       "      <th>Time</th>\n",
       "      <th>COAST</th>\n",
       "      <th>EAST</th>\n",
       "      <th>FAR_WEST</th>\n",
       "      <th>NORTH</th>\n",
       "      <th>NORTH_C</th>\n",
       "      <th>SOUTHERN</th>\n",
       "      <th>SOUTH_C</th>\n",
       "      <th>WEST</th>\n",
       "      <th>ERCOT</th>\n",
       "    </tr>\n",
       "  </thead>\n",
       "  <tbody>\n",
       "    <tr>\n",
       "      <th>0</th>\n",
       "      <td>1/1/2003 1:00</td>\n",
       "      <td>2003-01-01 01:00:00</td>\n",
       "      <td>7314.780744</td>\n",
       "      <td>1036.148174</td>\n",
       "      <td>1045.133783</td>\n",
       "      <td>923.252130</td>\n",
       "      <td>8894.325899</td>\n",
       "      <td>1789.728088</td>\n",
       "      <td>4126.710428</td>\n",
       "      <td>720.614612</td>\n",
       "      <td>25850.69386</td>\n",
       "    </tr>\n",
       "    <tr>\n",
       "      <th>1</th>\n",
       "      <td>1/1/2003 2:00</td>\n",
       "      <td>2003-01-01 02:00:00</td>\n",
       "      <td>7191.622771</td>\n",
       "      <td>1052.905958</td>\n",
       "      <td>1057.384009</td>\n",
       "      <td>925.322631</td>\n",
       "      <td>8903.379971</td>\n",
       "      <td>1743.996713</td>\n",
       "      <td>4122.863299</td>\n",
       "      <td>717.870496</td>\n",
       "      <td>25715.34585</td>\n",
       "    </tr>\n",
       "    <tr>\n",
       "      <th>2</th>\n",
       "      <td>1/1/2003 3:00</td>\n",
       "      <td>2003-01-01 03:00:00</td>\n",
       "      <td>7070.109415</td>\n",
       "      <td>1054.472158</td>\n",
       "      <td>1066.026565</td>\n",
       "      <td>930.799970</td>\n",
       "      <td>8956.825659</td>\n",
       "      <td>1705.079075</td>\n",
       "      <td>4096.731053</td>\n",
       "      <td>714.620617</td>\n",
       "      <td>25594.66451</td>\n",
       "    </tr>\n",
       "    <tr>\n",
       "      <th>3</th>\n",
       "      <td>1/1/2003 4:00</td>\n",
       "      <td>2003-01-01 04:00:00</td>\n",
       "      <td>6995.856927</td>\n",
       "      <td>1071.321582</td>\n",
       "      <td>1073.569811</td>\n",
       "      <td>940.416419</td>\n",
       "      <td>9051.877218</td>\n",
       "      <td>1686.165070</td>\n",
       "      <td>4072.129754</td>\n",
       "      <td>717.546966</td>\n",
       "      <td>25608.88375</td>\n",
       "    </tr>\n",
       "    <tr>\n",
       "      <th>4</th>\n",
       "      <td>1/1/2003 5:00</td>\n",
       "      <td>2003-01-01 05:00:00</td>\n",
       "      <td>7039.006752</td>\n",
       "      <td>1099.778468</td>\n",
       "      <td>1082.572201</td>\n",
       "      <td>956.271373</td>\n",
       "      <td>9261.293160</td>\n",
       "      <td>1698.247068</td>\n",
       "      <td>4116.080308</td>\n",
       "      <td>728.963828</td>\n",
       "      <td>25982.21316</td>\n",
       "    </tr>\n",
       "  </tbody>\n",
       "</table>\n",
       "</div>"
      ],
      "text/plain": [
       "        Hour_End                Time        COAST         EAST     FAR_WEST  \\\n",
       "0  1/1/2003 1:00 2003-01-01 01:00:00  7314.780744  1036.148174  1045.133783   \n",
       "1  1/1/2003 2:00 2003-01-01 02:00:00  7191.622771  1052.905958  1057.384009   \n",
       "2  1/1/2003 3:00 2003-01-01 03:00:00  7070.109415  1054.472158  1066.026565   \n",
       "3  1/1/2003 4:00 2003-01-01 04:00:00  6995.856927  1071.321582  1073.569811   \n",
       "4  1/1/2003 5:00 2003-01-01 05:00:00  7039.006752  1099.778468  1082.572201   \n",
       "\n",
       "        NORTH      NORTH_C     SOUTHERN      SOUTH_C        WEST        ERCOT  \n",
       "0  923.252130  8894.325899  1789.728088  4126.710428  720.614612  25850.69386  \n",
       "1  925.322631  8903.379971  1743.996713  4122.863299  717.870496  25715.34585  \n",
       "2  930.799970  8956.825659  1705.079075  4096.731053  714.620617  25594.66451  \n",
       "3  940.416419  9051.877218  1686.165070  4072.129754  717.546966  25608.88375  \n",
       "4  956.271373  9261.293160  1698.247068  4116.080308  728.963828  25982.21316  "
      ]
     },
     "execution_count": 56,
     "metadata": {},
     "output_type": "execute_result"
    }
   ],
   "source": [
    "cons_2003.head()"
   ]
  },
  {
   "cell_type": "code",
   "execution_count": 34,
   "metadata": {},
   "outputs": [
    {
     "data": {
      "text/html": [
       "<div>\n",
       "<style scoped>\n",
       "    .dataframe tbody tr th:only-of-type {\n",
       "        vertical-align: middle;\n",
       "    }\n",
       "\n",
       "    .dataframe tbody tr th {\n",
       "        vertical-align: top;\n",
       "    }\n",
       "\n",
       "    .dataframe thead th {\n",
       "        text-align: right;\n",
       "    }\n",
       "</style>\n",
       "<table border=\"1\" class=\"dataframe\">\n",
       "  <thead>\n",
       "    <tr style=\"text-align: right;\">\n",
       "      <th></th>\n",
       "      <th>Hour_End</th>\n",
       "      <th>Hour_End.1</th>\n",
       "      <th>COAST</th>\n",
       "      <th>EAST</th>\n",
       "      <th>FAR_WEST</th>\n",
       "      <th>NORTH</th>\n",
       "      <th>NORTH_C</th>\n",
       "      <th>SOUTHERN</th>\n",
       "      <th>SOUTH_C</th>\n",
       "      <th>WEST</th>\n",
       "      <th>ERCOT</th>\n",
       "    </tr>\n",
       "  </thead>\n",
       "  <tbody>\n",
       "    <tr>\n",
       "      <th>0</th>\n",
       "      <td>2004-01-01 01:00:00.003</td>\n",
       "      <td>2004-01-01 01:00:00.003</td>\n",
       "      <td>7225.087742</td>\n",
       "      <td>877.786281</td>\n",
       "      <td>1044.891487</td>\n",
       "      <td>745.789652</td>\n",
       "      <td>7124.208773</td>\n",
       "      <td>1660.451157</td>\n",
       "      <td>3639.115900</td>\n",
       "      <td>654.610079</td>\n",
       "      <td>22971.941071</td>\n",
       "    </tr>\n",
       "    <tr>\n",
       "      <th>1</th>\n",
       "      <td>2004-01-01 01:59:59.997</td>\n",
       "      <td>2004-01-01 01:59:59.997</td>\n",
       "      <td>6994.247187</td>\n",
       "      <td>850.745765</td>\n",
       "      <td>1032.040567</td>\n",
       "      <td>721.344360</td>\n",
       "      <td>6854.581504</td>\n",
       "      <td>1603.520440</td>\n",
       "      <td>3495.158058</td>\n",
       "      <td>639.879137</td>\n",
       "      <td>22191.517017</td>\n",
       "    </tr>\n",
       "    <tr>\n",
       "      <th>2</th>\n",
       "      <td>2004-01-01 03:00:00.000</td>\n",
       "      <td>2004-01-01 03:00:00.000</td>\n",
       "      <td>6717.415522</td>\n",
       "      <td>831.633221</td>\n",
       "      <td>1021.098479</td>\n",
       "      <td>699.704826</td>\n",
       "      <td>6639.484787</td>\n",
       "      <td>1527.985961</td>\n",
       "      <td>3322.697830</td>\n",
       "      <td>623.416884</td>\n",
       "      <td>21383.437510</td>\n",
       "    </tr>\n",
       "    <tr>\n",
       "      <th>3</th>\n",
       "      <td>2004-01-01 04:00:00.003</td>\n",
       "      <td>2004-01-01 04:00:00.003</td>\n",
       "      <td>6554.269144</td>\n",
       "      <td>823.555980</td>\n",
       "      <td>1015.411169</td>\n",
       "      <td>691.838525</td>\n",
       "      <td>6492.392024</td>\n",
       "      <td>1473.892322</td>\n",
       "      <td>3201.716842</td>\n",
       "      <td>613.488344</td>\n",
       "      <td>20866.564352</td>\n",
       "    </tr>\n",
       "    <tr>\n",
       "      <th>4</th>\n",
       "      <td>2004-01-01 04:59:59.997</td>\n",
       "      <td>2004-01-01 04:59:59.997</td>\n",
       "      <td>6511.185045</td>\n",
       "      <td>823.379150</td>\n",
       "      <td>1009.742072</td>\n",
       "      <td>686.764064</td>\n",
       "      <td>6452.262173</td>\n",
       "      <td>1462.759032</td>\n",
       "      <td>3163.737777</td>\n",
       "      <td>613.323295</td>\n",
       "      <td>20723.152608</td>\n",
       "    </tr>\n",
       "  </tbody>\n",
       "</table>\n",
       "</div>"
      ],
      "text/plain": [
       "                 Hour_End              Hour_End.1        COAST        EAST  \\\n",
       "0 2004-01-01 01:00:00.003 2004-01-01 01:00:00.003  7225.087742  877.786281   \n",
       "1 2004-01-01 01:59:59.997 2004-01-01 01:59:59.997  6994.247187  850.745765   \n",
       "2 2004-01-01 03:00:00.000 2004-01-01 03:00:00.000  6717.415522  831.633221   \n",
       "3 2004-01-01 04:00:00.003 2004-01-01 04:00:00.003  6554.269144  823.555980   \n",
       "4 2004-01-01 04:59:59.997 2004-01-01 04:59:59.997  6511.185045  823.379150   \n",
       "\n",
       "      FAR_WEST       NORTH      NORTH_C     SOUTHERN      SOUTH_C        WEST  \\\n",
       "0  1044.891487  745.789652  7124.208773  1660.451157  3639.115900  654.610079   \n",
       "1  1032.040567  721.344360  6854.581504  1603.520440  3495.158058  639.879137   \n",
       "2  1021.098479  699.704826  6639.484787  1527.985961  3322.697830  623.416884   \n",
       "3  1015.411169  691.838525  6492.392024  1473.892322  3201.716842  613.488344   \n",
       "4  1009.742072  686.764064  6452.262173  1462.759032  3163.737777  613.323295   \n",
       "\n",
       "          ERCOT  \n",
       "0  22971.941071  \n",
       "1  22191.517017  \n",
       "2  21383.437510  \n",
       "3  20866.564352  \n",
       "4  20723.152608  "
      ]
     },
     "execution_count": 34,
     "metadata": {},
     "output_type": "execute_result"
    }
   ],
   "source": [
    "# xl_2004 = pd.ExcelFile('./Data/Consumption/2004_ERCOT_Hourly_Load_Data.xls')\n",
    "# cons_2004 = xl_2004.parse('native_Load_2004')\n",
    "# cons_2004.head()"
   ]
  },
  {
   "cell_type": "code",
   "execution_count": 57,
   "metadata": {},
   "outputs": [],
   "source": [
    "cons_2004 = pd.read_csv('./Data/Consumption/2004_ERCOT_Hourly_Load_Data.csv')\n",
    "cons_2004['Time'] = cons_2004['Hour_End'].apply(lambda x: dt.datetime.strptime(x, '%m/%d/%Y %H:%M'))\n",
    "cons_2004 = cons_2004[['Hour_End','Time','COAST','EAST','FAR_WEST','NORTH','NORTH_C','SOUTHERN','SOUTH_C','WEST','ERCOT']]"
   ]
  },
  {
   "cell_type": "code",
   "execution_count": null,
   "metadata": {},
   "outputs": [],
   "source": [
    "xl_2005 = pd.ExcelFile('./Data/Consumption/2005_ERCOT_Hourly_Load_Data.xls')\n",
    "cons_2005 = xl_2005.parse('native_Load_2005')"
   ]
  },
  {
   "cell_type": "code",
   "execution_count": null,
   "metadata": {},
   "outputs": [],
   "source": [
    "xl_2006 = pd.ExcelFile('./Data/Consumption/2006_ERCOT_Hourly_Load_Data.xls')\n",
    "cons_2006 = xl_2006.parse('native_Load_2006')"
   ]
  },
  {
   "cell_type": "code",
   "execution_count": null,
   "metadata": {},
   "outputs": [],
   "source": [
    "xl_2007 = pd.ExcelFile('./Data/Consumption/2007_ERCOT_Hourly_Load_Data.xls')\n",
    "cons_2007 = xl_2007.parse('native_Load_2007')"
   ]
  },
  {
   "cell_type": "code",
   "execution_count": null,
   "metadata": {},
   "outputs": [],
   "source": [
    "xl_2008 = pd.ExcelFile('./Data/Consumption/2008_ERCOT_Hourly_Load_Data.xls')\n",
    "cons_2008 = xl_2008.parse('native_Load_2008')"
   ]
  },
  {
   "cell_type": "code",
   "execution_count": null,
   "metadata": {},
   "outputs": [],
   "source": [
    "xl_2009 = pd.ExcelFile('./Data/Consumption/2009_ERCOT_Hourly_Load_Data.xls')\n",
    "cons_2009 = xl_2009.parse('native_Load_2009')"
   ]
  },
  {
   "cell_type": "code",
   "execution_count": null,
   "metadata": {},
   "outputs": [],
   "source": [
    "xl_2010 = pd.ExcelFile('./Data/Consumption/2010_ERCOT_Hourly_Load_Data.xls')\n",
    "cons_2010 = xl_2010.parse('native_Load_2010')"
   ]
  },
  {
   "cell_type": "code",
   "execution_count": null,
   "metadata": {},
   "outputs": [],
   "source": [
    "xl_2011 = pd.ExcelFile('./Data/Consumption/2011_ERCOT_Hourly_Load_Data.xls')\n",
    "cons_2011 = xl_2011.parse('native_Load_2011')"
   ]
  },
  {
   "cell_type": "code",
   "execution_count": null,
   "metadata": {},
   "outputs": [],
   "source": [
    "xl_2012 = pd.ExcelFile('./Data/Consumption/2012_ERCOT_Hourly_Load_Data.xls')\n",
    "cons_2012 = xl_2012.parse('native_Load_2012')"
   ]
  },
  {
   "cell_type": "code",
   "execution_count": null,
   "metadata": {},
   "outputs": [],
   "source": [
    "xl_2013 = pd.ExcelFile('./Data/Consumption/2013_ERCOT_Hourly_Load_Data.xls')\n",
    "cons_2013 = xl_2013.parse('native_Load_2013')"
   ]
  },
  {
   "cell_type": "code",
   "execution_count": null,
   "metadata": {},
   "outputs": [],
   "source": [
    "xl_2014 = pd.ExcelFile('./Data/Consumption/2014_ERCOT_Hourly_Load_Data.xls')\n",
    "cons_2014 = xl_2014.parse('native_Load_2014')"
   ]
  },
  {
   "cell_type": "code",
   "execution_count": null,
   "metadata": {},
   "outputs": [],
   "source": [
    "xl_2015 = pd.ExcelFile('./Data/Consumption/native_Load_2015.xls')\n",
    "cons_2015 = xl_2015.parse('native_Load_2015')"
   ]
  },
  {
   "cell_type": "code",
   "execution_count": null,
   "metadata": {},
   "outputs": [],
   "source": [
    "xl_2016 = pd.ExcelFile('./Data/Consumption/native_Load_2016.xlsx')\n",
    "cons_2016 = xl_2016.parse('native_Load_2016')"
   ]
  },
  {
   "cell_type": "code",
   "execution_count": null,
   "metadata": {},
   "outputs": [],
   "source": [
    "xl_2017 = pd.ExcelFile('./Data/Consumption/native_Load_2017.xlsx')\n",
    "cons_2017 = xl_2017.parse('Page1_1')"
   ]
  },
  {
   "cell_type": "code",
   "execution_count": null,
   "metadata": {},
   "outputs": [],
   "source": [
    "#Combining all of these dataframes into a single dataframe:\n",
    "c_list = [cons_2002, cons_2003, cons_2004, cons_2005, cons_2006, cons_2007, cons_2008, cons_2009, cons_2010, \n",
    "          cons_2011, cons_2012, cons_2013, cons_2014, cons_2015, cons_2016, cons_2017]\n",
    "cons_full = pd.concat(c_list, join = 'outer', sort = False)"
   ]
  },
  {
   "cell_type": "code",
   "execution_count": null,
   "metadata": {},
   "outputs": [],
   "source": [
    "cons_full.head()"
   ]
  },
  {
   "cell_type": "markdown",
   "metadata": {},
   "source": [
    "We see here that unfortunately, not all of the columns in the data have the same name. It appears that the regions are still the same, so we'll only need to change the names of some of the columns to be consistent."
   ]
  },
  {
   "cell_type": "code",
   "execution_count": null,
   "metadata": {},
   "outputs": [],
   "source": [
    "cons_2017.head()"
   ]
  },
  {
   "cell_type": "markdown",
   "metadata": {},
   "source": [
    "Fortunately, the 2017 data is the only file with the differently named columns, so we simply set its column names as one of the other files and then do the concatenation."
   ]
  },
  {
   "cell_type": "code",
   "execution_count": null,
   "metadata": {},
   "outputs": [],
   "source": [
    "cons_2017.columns = cons_2016.columns.tolist()"
   ]
  },
  {
   "cell_type": "code",
   "execution_count": null,
   "metadata": {},
   "outputs": [],
   "source": [
    "cons_full = pd.concat(c_list, join = 'outer', sort = False)"
   ]
  },
  {
   "cell_type": "code",
   "execution_count": null,
   "metadata": {},
   "outputs": [],
   "source": [
    "cons_full.head()"
   ]
  },
  {
   "cell_type": "markdown",
   "metadata": {},
   "source": [
    "Next, let's clean up the Hour_End column so that it contains only rounded hours."
   ]
  },
  {
   "cell_type": "code",
   "execution_count": null,
   "metadata": {},
   "outputs": [],
   "source": []
  }
 ],
 "metadata": {
  "kernelspec": {
   "display_name": "Python 3",
   "language": "python",
   "name": "python3"
  },
  "language_info": {
   "codemirror_mode": {
    "name": "ipython",
    "version": 3
   },
   "file_extension": ".py",
   "mimetype": "text/x-python",
   "name": "python",
   "nbconvert_exporter": "python",
   "pygments_lexer": "ipython3",
   "version": "3.6.5"
  }
 },
 "nbformat": 4,
 "nbformat_minor": 2
}
