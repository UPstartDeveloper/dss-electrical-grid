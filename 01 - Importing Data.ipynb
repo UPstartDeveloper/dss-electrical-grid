{
 "cells": [
  {
   "cell_type": "markdown",
   "metadata": {},
   "source": [
    "# Importing Data"
   ]
  },
  {
   "cell_type": "markdown",
   "metadata": {},
   "source": [
    "First, let's import and format the data in our notebook. We'll start with the data on electricity consumption.\n",
    "\n",
    "This data is in the form of excel sheets (.xls), so we should be able to use the pandas .ExcelFile function to import the data."
   ]
  },
  {
   "cell_type": "code",
   "execution_count": 1,
   "metadata": {},
   "outputs": [],
   "source": [
    "import pandas as pd\n",
    "import numpy as np\n",
    "import matplotlib.pyplot as plt\n",
    "%matplotlib inline"
   ]
  },
  {
   "cell_type": "code",
   "execution_count": 2,
   "metadata": {},
   "outputs": [],
   "source": [
    "xl_2002 = pd.ExcelFile('./Data/Consumption/2002_ERCOT_Hourly_Load_Data.xls')"
   ]
  },
  {
   "cell_type": "code",
   "execution_count": 3,
   "metadata": {},
   "outputs": [
    {
     "name": "stdout",
     "output_type": "stream",
     "text": [
      "['native_Load_2002']\n"
     ]
    }
   ],
   "source": [
    "print(xl_2002.sheet_names)"
   ]
  },
  {
   "cell_type": "code",
   "execution_count": 4,
   "metadata": {},
   "outputs": [],
   "source": [
    "cons_2002 = xl_2002.parse('native_Load_2002')"
   ]
  },
  {
   "cell_type": "code",
   "execution_count": 5,
   "metadata": {},
   "outputs": [
    {
     "data": {
      "text/html": [
       "<div>\n",
       "<style scoped>\n",
       "    .dataframe tbody tr th:only-of-type {\n",
       "        vertical-align: middle;\n",
       "    }\n",
       "\n",
       "    .dataframe tbody tr th {\n",
       "        vertical-align: top;\n",
       "    }\n",
       "\n",
       "    .dataframe thead th {\n",
       "        text-align: right;\n",
       "    }\n",
       "</style>\n",
       "<table border=\"1\" class=\"dataframe\">\n",
       "  <thead>\n",
       "    <tr style=\"text-align: right;\">\n",
       "      <th></th>\n",
       "      <th>Hour_End</th>\n",
       "      <th>COAST</th>\n",
       "      <th>EAST</th>\n",
       "      <th>FAR_WEST</th>\n",
       "      <th>NORTH</th>\n",
       "      <th>NORTH_C</th>\n",
       "      <th>SOUTHERN</th>\n",
       "      <th>SOUTH_C</th>\n",
       "      <th>WEST</th>\n",
       "      <th>ERCOT</th>\n",
       "    </tr>\n",
       "  </thead>\n",
       "  <tbody>\n",
       "    <tr>\n",
       "      <th>0</th>\n",
       "      <td>2002-01-01 01:00:00.003</td>\n",
       "      <td>8331.469266</td>\n",
       "      <td>1111.096549</td>\n",
       "      <td>1094.045496</td>\n",
       "      <td>995.298392</td>\n",
       "      <td>10336.304899</td>\n",
       "      <td>2165.007571</td>\n",
       "      <td>4793.193560</td>\n",
       "      <td>843.747177</td>\n",
       "      <td>29670.162911</td>\n",
       "    </tr>\n",
       "    <tr>\n",
       "      <th>1</th>\n",
       "      <td>2002-01-01 01:59:59.997</td>\n",
       "      <td>8107.805431</td>\n",
       "      <td>1091.481584</td>\n",
       "      <td>1083.517981</td>\n",
       "      <td>981.195477</td>\n",
       "      <td>10178.052738</td>\n",
       "      <td>2092.374118</td>\n",
       "      <td>4766.918187</td>\n",
       "      <td>835.488188</td>\n",
       "      <td>29136.833703</td>\n",
       "    </tr>\n",
       "    <tr>\n",
       "      <th>2</th>\n",
       "      <td>2002-01-01 03:00:00.000</td>\n",
       "      <td>7890.721717</td>\n",
       "      <td>1080.257616</td>\n",
       "      <td>1085.038740</td>\n",
       "      <td>971.305257</td>\n",
       "      <td>10100.887710</td>\n",
       "      <td>2042.080714</td>\n",
       "      <td>4702.918892</td>\n",
       "      <td>830.694878</td>\n",
       "      <td>28703.905525</td>\n",
       "    </tr>\n",
       "    <tr>\n",
       "      <th>3</th>\n",
       "      <td>2002-01-01 04:00:00.003</td>\n",
       "      <td>7799.817527</td>\n",
       "      <td>1079.726403</td>\n",
       "      <td>1093.381853</td>\n",
       "      <td>971.262963</td>\n",
       "      <td>10081.565109</td>\n",
       "      <td>2011.935791</td>\n",
       "      <td>4669.064391</td>\n",
       "      <td>835.068413</td>\n",
       "      <td>28541.822450</td>\n",
       "    </tr>\n",
       "    <tr>\n",
       "      <th>4</th>\n",
       "      <td>2002-01-01 04:59:59.997</td>\n",
       "      <td>7815.968171</td>\n",
       "      <td>1087.934961</td>\n",
       "      <td>1106.651296</td>\n",
       "      <td>982.535591</td>\n",
       "      <td>10192.218670</td>\n",
       "      <td>2002.487678</td>\n",
       "      <td>4695.011904</td>\n",
       "      <td>848.598209</td>\n",
       "      <td>28731.406478</td>\n",
       "    </tr>\n",
       "  </tbody>\n",
       "</table>\n",
       "</div>"
      ],
      "text/plain": [
       "                 Hour_End        COAST         EAST     FAR_WEST       NORTH  \\\n",
       "0 2002-01-01 01:00:00.003  8331.469266  1111.096549  1094.045496  995.298392   \n",
       "1 2002-01-01 01:59:59.997  8107.805431  1091.481584  1083.517981  981.195477   \n",
       "2 2002-01-01 03:00:00.000  7890.721717  1080.257616  1085.038740  971.305257   \n",
       "3 2002-01-01 04:00:00.003  7799.817527  1079.726403  1093.381853  971.262963   \n",
       "4 2002-01-01 04:59:59.997  7815.968171  1087.934961  1106.651296  982.535591   \n",
       "\n",
       "        NORTH_C     SOUTHERN      SOUTH_C        WEST         ERCOT  \n",
       "0  10336.304899  2165.007571  4793.193560  843.747177  29670.162911  \n",
       "1  10178.052738  2092.374118  4766.918187  835.488188  29136.833703  \n",
       "2  10100.887710  2042.080714  4702.918892  830.694878  28703.905525  \n",
       "3  10081.565109  2011.935791  4669.064391  835.068413  28541.822450  \n",
       "4  10192.218670  2002.487678  4695.011904  848.598209  28731.406478  "
      ]
     },
     "execution_count": 5,
     "metadata": {},
     "output_type": "execute_result"
    }
   ],
   "source": [
    "cons_2002.head()"
   ]
  },
  {
   "cell_type": "code",
   "execution_count": 7,
   "metadata": {},
   "outputs": [
    {
     "data": {
      "text/html": [
       "<div>\n",
       "<style scoped>\n",
       "    .dataframe tbody tr th:only-of-type {\n",
       "        vertical-align: middle;\n",
       "    }\n",
       "\n",
       "    .dataframe tbody tr th {\n",
       "        vertical-align: top;\n",
       "    }\n",
       "\n",
       "    .dataframe thead th {\n",
       "        text-align: right;\n",
       "    }\n",
       "</style>\n",
       "<table border=\"1\" class=\"dataframe\">\n",
       "  <thead>\n",
       "    <tr style=\"text-align: right;\">\n",
       "      <th></th>\n",
       "      <th>Hour_End</th>\n",
       "      <th>COAST</th>\n",
       "      <th>EAST</th>\n",
       "      <th>FAR_WEST</th>\n",
       "      <th>NORTH</th>\n",
       "      <th>NORTH_C</th>\n",
       "      <th>SOUTHERN</th>\n",
       "      <th>SOUTH_C</th>\n",
       "      <th>WEST</th>\n",
       "      <th>ERCOT</th>\n",
       "    </tr>\n",
       "  </thead>\n",
       "  <tbody>\n",
       "    <tr>\n",
       "      <th>0</th>\n",
       "      <td>2003-01-01 01:00:00.003</td>\n",
       "      <td>7314.780744</td>\n",
       "      <td>1036.148174</td>\n",
       "      <td>1045.133783</td>\n",
       "      <td>923.252130</td>\n",
       "      <td>8894.325899</td>\n",
       "      <td>1789.728088</td>\n",
       "      <td>4126.710428</td>\n",
       "      <td>720.614612</td>\n",
       "      <td>25850.693856</td>\n",
       "    </tr>\n",
       "    <tr>\n",
       "      <th>1</th>\n",
       "      <td>2003-01-01 01:59:59.997</td>\n",
       "      <td>7191.622771</td>\n",
       "      <td>1052.905958</td>\n",
       "      <td>1057.384009</td>\n",
       "      <td>925.322632</td>\n",
       "      <td>8903.379971</td>\n",
       "      <td>1743.996713</td>\n",
       "      <td>4122.863299</td>\n",
       "      <td>717.870496</td>\n",
       "      <td>25715.345849</td>\n",
       "    </tr>\n",
       "    <tr>\n",
       "      <th>2</th>\n",
       "      <td>2003-01-01 03:00:00.000</td>\n",
       "      <td>7070.109415</td>\n",
       "      <td>1054.472158</td>\n",
       "      <td>1066.026565</td>\n",
       "      <td>930.799970</td>\n",
       "      <td>8956.825659</td>\n",
       "      <td>1705.079075</td>\n",
       "      <td>4096.731053</td>\n",
       "      <td>714.620617</td>\n",
       "      <td>25594.664511</td>\n",
       "    </tr>\n",
       "    <tr>\n",
       "      <th>3</th>\n",
       "      <td>2003-01-01 04:00:00.003</td>\n",
       "      <td>6995.856927</td>\n",
       "      <td>1071.321582</td>\n",
       "      <td>1073.569811</td>\n",
       "      <td>940.416419</td>\n",
       "      <td>9051.877218</td>\n",
       "      <td>1686.165070</td>\n",
       "      <td>4072.129754</td>\n",
       "      <td>717.546966</td>\n",
       "      <td>25608.883747</td>\n",
       "    </tr>\n",
       "    <tr>\n",
       "      <th>4</th>\n",
       "      <td>2003-01-01 04:59:59.997</td>\n",
       "      <td>7039.006752</td>\n",
       "      <td>1099.778468</td>\n",
       "      <td>1082.572201</td>\n",
       "      <td>956.271373</td>\n",
       "      <td>9261.293160</td>\n",
       "      <td>1698.247068</td>\n",
       "      <td>4116.080308</td>\n",
       "      <td>728.963828</td>\n",
       "      <td>25982.213157</td>\n",
       "    </tr>\n",
       "  </tbody>\n",
       "</table>\n",
       "</div>"
      ],
      "text/plain": [
       "                 Hour_End        COAST         EAST     FAR_WEST       NORTH  \\\n",
       "0 2003-01-01 01:00:00.003  7314.780744  1036.148174  1045.133783  923.252130   \n",
       "1 2003-01-01 01:59:59.997  7191.622771  1052.905958  1057.384009  925.322632   \n",
       "2 2003-01-01 03:00:00.000  7070.109415  1054.472158  1066.026565  930.799970   \n",
       "3 2003-01-01 04:00:00.003  6995.856927  1071.321582  1073.569811  940.416419   \n",
       "4 2003-01-01 04:59:59.997  7039.006752  1099.778468  1082.572201  956.271373   \n",
       "\n",
       "       NORTH_C     SOUTHERN      SOUTH_C        WEST         ERCOT  \n",
       "0  8894.325899  1789.728088  4126.710428  720.614612  25850.693856  \n",
       "1  8903.379971  1743.996713  4122.863299  717.870496  25715.345849  \n",
       "2  8956.825659  1705.079075  4096.731053  714.620617  25594.664511  \n",
       "3  9051.877218  1686.165070  4072.129754  717.546966  25608.883747  \n",
       "4  9261.293160  1698.247068  4116.080308  728.963828  25982.213157  "
      ]
     },
     "execution_count": 7,
     "metadata": {},
     "output_type": "execute_result"
    }
   ],
   "source": [
    "xl_2003 = pd.ExcelFile('./Data/Consumption/2003_ERCOT_Hourly_Load_Data.xls')\n",
    "cons_2003 = xl_2003.parse('native_Load_2003')\n",
    "cons_2003.head()"
   ]
  },
  {
   "cell_type": "code",
   "execution_count": 8,
   "metadata": {},
   "outputs": [],
   "source": [
    "xl_2004 = pd.ExcelFile('./Data/Consumption/2004_ERCOT_Hourly_Load_Data.xls')\n",
    "cons_2004 = xl_2004.parse('native_Load_2004')"
   ]
  },
  {
   "cell_type": "code",
   "execution_count": 9,
   "metadata": {},
   "outputs": [],
   "source": [
    "xl_2005 = pd.ExcelFile('./Data/Consumption/2005_ERCOT_Hourly_Load_Data.xls')\n",
    "cons_2005 = xl_2005.parse('native_Load_2005')"
   ]
  },
  {
   "cell_type": "code",
   "execution_count": 11,
   "metadata": {},
   "outputs": [],
   "source": [
    "xl_2006 = pd.ExcelFile('./Data/Consumption/2006_ERCOT_Hourly_Load_Data.xls')\n",
    "cons_2006 = xl_2006.parse('native_Load_2006')"
   ]
  },
  {
   "cell_type": "code",
   "execution_count": 12,
   "metadata": {},
   "outputs": [],
   "source": [
    "xl_2007 = pd.ExcelFile('./Data/Consumption/2007_ERCOT_Hourly_Load_Data.xls')\n",
    "cons_2007 = xl_2007.parse('native_Load_2007')"
   ]
  },
  {
   "cell_type": "code",
   "execution_count": 13,
   "metadata": {},
   "outputs": [],
   "source": [
    "xl_2008 = pd.ExcelFile('./Data/Consumption/2008_ERCOT_Hourly_Load_Data.xls')\n",
    "cons_2008 = xl_2008.parse('native_Load_2008')"
   ]
  },
  {
   "cell_type": "code",
   "execution_count": 14,
   "metadata": {},
   "outputs": [],
   "source": [
    "xl_2009 = pd.ExcelFile('./Data/Consumption/2009_ERCOT_Hourly_Load_Data.xls')\n",
    "cons_2009 = xl_2009.parse('native_Load_2009')"
   ]
  },
  {
   "cell_type": "code",
   "execution_count": 15,
   "metadata": {},
   "outputs": [],
   "source": [
    "xl_2010 = pd.ExcelFile('./Data/Consumption/2010_ERCOT_Hourly_Load_Data.xls')\n",
    "cons_2010 = xl_2010.parse('native_Load_2010')"
   ]
  },
  {
   "cell_type": "code",
   "execution_count": 16,
   "metadata": {},
   "outputs": [],
   "source": [
    "xl_2011 = pd.ExcelFile('./Data/Consumption/2011_ERCOT_Hourly_Load_Data.xls')\n",
    "cons_2011 = xl_2011.parse('native_Load_2011')"
   ]
  },
  {
   "cell_type": "code",
   "execution_count": 17,
   "metadata": {},
   "outputs": [],
   "source": [
    "xl_2012 = pd.ExcelFile('./Data/Consumption/2012_ERCOT_Hourly_Load_Data.xls')\n",
    "cons_2012 = xl_2012.parse('native_Load_2012')"
   ]
  },
  {
   "cell_type": "code",
   "execution_count": 18,
   "metadata": {},
   "outputs": [],
   "source": [
    "xl_2013 = pd.ExcelFile('./Data/Consumption/2013_ERCOT_Hourly_Load_Data.xls')\n",
    "cons_2013 = xl_2013.parse('native_Load_2013')"
   ]
  },
  {
   "cell_type": "code",
   "execution_count": 19,
   "metadata": {},
   "outputs": [],
   "source": [
    "xl_2014 = pd.ExcelFile('./Data/Consumption/2014_ERCOT_Hourly_Load_Data.xls')\n",
    "cons_2014 = xl_2014.parse('native_Load_2014')"
   ]
  },
  {
   "cell_type": "code",
   "execution_count": 20,
   "metadata": {},
   "outputs": [],
   "source": [
    "xl_2015 = pd.ExcelFile('./Data/Consumption/native_Load_2015.xls')\n",
    "cons_2015 = xl_2015.parse('native_Load_2015')"
   ]
  },
  {
   "cell_type": "code",
   "execution_count": 23,
   "metadata": {},
   "outputs": [],
   "source": [
    "xl_2016 = pd.ExcelFile('./Data/Consumption/native_Load_2016.xlsx')\n",
    "cons_2016 = xl_2016.parse('native_Load_2016')"
   ]
  },
  {
   "cell_type": "code",
   "execution_count": 27,
   "metadata": {},
   "outputs": [],
   "source": [
    "xl_2017 = pd.ExcelFile('./Data/Consumption/native_Load_2017.xlsx')\n",
    "cons_2017 = xl_2017.parse('Page1_1')"
   ]
  },
  {
   "cell_type": "code",
   "execution_count": 34,
   "metadata": {},
   "outputs": [],
   "source": [
    "#Combining all of these dataframes into a single dataframe:\n",
    "c_list = [cons_2002, cons_2003, cons_2004, cons_2005, cons_2006, cons_2007, cons_2008, cons_2009, cons_2010, \n",
    "          cons_2011, cons_2012, cons_2013, cons_2014, cons_2015, cons_2016, cons_2017]\n",
    "cons_full = pd.concat(c_list, join = 'outer', sort = False)"
   ]
  },
  {
   "cell_type": "code",
   "execution_count": 35,
   "metadata": {},
   "outputs": [
    {
     "data": {
      "text/html": [
       "<div>\n",
       "<style scoped>\n",
       "    .dataframe tbody tr th:only-of-type {\n",
       "        vertical-align: middle;\n",
       "    }\n",
       "\n",
       "    .dataframe tbody tr th {\n",
       "        vertical-align: top;\n",
       "    }\n",
       "\n",
       "    .dataframe thead th {\n",
       "        text-align: right;\n",
       "    }\n",
       "</style>\n",
       "<table border=\"1\" class=\"dataframe\">\n",
       "  <thead>\n",
       "    <tr style=\"text-align: right;\">\n",
       "      <th></th>\n",
       "      <th>Hour_End</th>\n",
       "      <th>COAST</th>\n",
       "      <th>EAST</th>\n",
       "      <th>FAR_WEST</th>\n",
       "      <th>NORTH</th>\n",
       "      <th>NORTH_C</th>\n",
       "      <th>SOUTHERN</th>\n",
       "      <th>SOUTH_C</th>\n",
       "      <th>WEST</th>\n",
       "      <th>ERCOT</th>\n",
       "      <th>Hour Ending</th>\n",
       "      <th>FWEST</th>\n",
       "      <th>NCENT</th>\n",
       "      <th>SOUTH</th>\n",
       "      <th>SCENT</th>\n",
       "    </tr>\n",
       "  </thead>\n",
       "  <tbody>\n",
       "    <tr>\n",
       "      <th>0</th>\n",
       "      <td>2002-01-01 01:00:00.003</td>\n",
       "      <td>8331.469266</td>\n",
       "      <td>1111.096549</td>\n",
       "      <td>1094.045496</td>\n",
       "      <td>995.298392</td>\n",
       "      <td>10336.304899</td>\n",
       "      <td>2165.007571</td>\n",
       "      <td>4793.193560</td>\n",
       "      <td>843.747177</td>\n",
       "      <td>29670.162911</td>\n",
       "      <td>NaN</td>\n",
       "      <td>NaN</td>\n",
       "      <td>NaN</td>\n",
       "      <td>NaN</td>\n",
       "      <td>NaN</td>\n",
       "    </tr>\n",
       "    <tr>\n",
       "      <th>1</th>\n",
       "      <td>2002-01-01 01:59:59.997</td>\n",
       "      <td>8107.805431</td>\n",
       "      <td>1091.481584</td>\n",
       "      <td>1083.517981</td>\n",
       "      <td>981.195477</td>\n",
       "      <td>10178.052738</td>\n",
       "      <td>2092.374118</td>\n",
       "      <td>4766.918187</td>\n",
       "      <td>835.488188</td>\n",
       "      <td>29136.833703</td>\n",
       "      <td>NaN</td>\n",
       "      <td>NaN</td>\n",
       "      <td>NaN</td>\n",
       "      <td>NaN</td>\n",
       "      <td>NaN</td>\n",
       "    </tr>\n",
       "    <tr>\n",
       "      <th>2</th>\n",
       "      <td>2002-01-01 03:00:00.000</td>\n",
       "      <td>7890.721717</td>\n",
       "      <td>1080.257616</td>\n",
       "      <td>1085.038740</td>\n",
       "      <td>971.305257</td>\n",
       "      <td>10100.887710</td>\n",
       "      <td>2042.080714</td>\n",
       "      <td>4702.918892</td>\n",
       "      <td>830.694878</td>\n",
       "      <td>28703.905525</td>\n",
       "      <td>NaN</td>\n",
       "      <td>NaN</td>\n",
       "      <td>NaN</td>\n",
       "      <td>NaN</td>\n",
       "      <td>NaN</td>\n",
       "    </tr>\n",
       "    <tr>\n",
       "      <th>3</th>\n",
       "      <td>2002-01-01 04:00:00.003</td>\n",
       "      <td>7799.817527</td>\n",
       "      <td>1079.726403</td>\n",
       "      <td>1093.381853</td>\n",
       "      <td>971.262963</td>\n",
       "      <td>10081.565109</td>\n",
       "      <td>2011.935791</td>\n",
       "      <td>4669.064391</td>\n",
       "      <td>835.068413</td>\n",
       "      <td>28541.822450</td>\n",
       "      <td>NaN</td>\n",
       "      <td>NaN</td>\n",
       "      <td>NaN</td>\n",
       "      <td>NaN</td>\n",
       "      <td>NaN</td>\n",
       "    </tr>\n",
       "    <tr>\n",
       "      <th>4</th>\n",
       "      <td>2002-01-01 04:59:59.997</td>\n",
       "      <td>7815.968171</td>\n",
       "      <td>1087.934961</td>\n",
       "      <td>1106.651296</td>\n",
       "      <td>982.535591</td>\n",
       "      <td>10192.218670</td>\n",
       "      <td>2002.487678</td>\n",
       "      <td>4695.011904</td>\n",
       "      <td>848.598209</td>\n",
       "      <td>28731.406478</td>\n",
       "      <td>NaN</td>\n",
       "      <td>NaN</td>\n",
       "      <td>NaN</td>\n",
       "      <td>NaN</td>\n",
       "      <td>NaN</td>\n",
       "    </tr>\n",
       "  </tbody>\n",
       "</table>\n",
       "</div>"
      ],
      "text/plain": [
       "                 Hour_End        COAST         EAST     FAR_WEST       NORTH  \\\n",
       "0 2002-01-01 01:00:00.003  8331.469266  1111.096549  1094.045496  995.298392   \n",
       "1 2002-01-01 01:59:59.997  8107.805431  1091.481584  1083.517981  981.195477   \n",
       "2 2002-01-01 03:00:00.000  7890.721717  1080.257616  1085.038740  971.305257   \n",
       "3 2002-01-01 04:00:00.003  7799.817527  1079.726403  1093.381853  971.262963   \n",
       "4 2002-01-01 04:59:59.997  7815.968171  1087.934961  1106.651296  982.535591   \n",
       "\n",
       "        NORTH_C     SOUTHERN      SOUTH_C        WEST         ERCOT  \\\n",
       "0  10336.304899  2165.007571  4793.193560  843.747177  29670.162911   \n",
       "1  10178.052738  2092.374118  4766.918187  835.488188  29136.833703   \n",
       "2  10100.887710  2042.080714  4702.918892  830.694878  28703.905525   \n",
       "3  10081.565109  2011.935791  4669.064391  835.068413  28541.822450   \n",
       "4  10192.218670  2002.487678  4695.011904  848.598209  28731.406478   \n",
       "\n",
       "  Hour Ending  FWEST  NCENT  SOUTH  SCENT  \n",
       "0         NaN    NaN    NaN    NaN    NaN  \n",
       "1         NaN    NaN    NaN    NaN    NaN  \n",
       "2         NaN    NaN    NaN    NaN    NaN  \n",
       "3         NaN    NaN    NaN    NaN    NaN  \n",
       "4         NaN    NaN    NaN    NaN    NaN  "
      ]
     },
     "execution_count": 35,
     "metadata": {},
     "output_type": "execute_result"
    }
   ],
   "source": [
    "cons_full.head()"
   ]
  },
  {
   "cell_type": "markdown",
   "metadata": {},
   "source": [
    "We see here that unfortunately, not all of the columns in the data have the same name. It appears that the regions are still the same, so we'll only need to change the names of so"
   ]
  },
  {
   "cell_type": "code",
   "execution_count": null,
   "metadata": {},
   "outputs": [],
   "source": []
  }
 ],
 "metadata": {
  "kernelspec": {
   "display_name": "Python 3",
   "language": "python",
   "name": "python3"
  },
  "language_info": {
   "codemirror_mode": {
    "name": "ipython",
    "version": 3
   },
   "file_extension": ".py",
   "mimetype": "text/x-python",
   "name": "python",
   "nbconvert_exporter": "python",
   "pygments_lexer": "ipython3",
   "version": "3.6.5"
  }
 },
 "nbformat": 4,
 "nbformat_minor": 2
}
