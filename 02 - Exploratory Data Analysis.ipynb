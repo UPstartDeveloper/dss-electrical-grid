{
 "cells": [
  {
   "cell_type": "markdown",
   "metadata": {},
   "source": [
    "# Exploratory Data Analysis"
   ]
  },
  {
   "cell_type": "markdown",
   "metadata": {},
   "source": [
    "Let's get a feel for our data. For now, let's only look at the electricity consumption data from 2016."
   ]
  },
  {
   "cell_type": "code",
   "execution_count": 1,
   "metadata": {},
   "outputs": [],
   "source": [
    "import pandas as pd\n",
    "import numpy as np\n",
    "import matplotlib.pyplot as plt\n",
    "%matplotlib inline\n",
    "import datetime as dt\n",
    "plt.rcParams['figure.figsize'] = [12,8]"
   ]
  },
  {
   "cell_type": "markdown",
   "metadata": {},
   "source": [
    "## EDA: 2016 Electricity Consumption"
   ]
  },
  {
   "cell_type": "code",
   "execution_count": 2,
   "metadata": {},
   "outputs": [],
   "source": [
    "cons_2016 = pd.read_csv('./Data/formatted/cons_2016.csv')"
   ]
  },
  {
   "cell_type": "code",
   "execution_count": 3,
   "metadata": {},
   "outputs": [],
   "source": [
    "cons_2016 = cons_2016.drop('Unnamed: 0',axis = 1)\n",
    "cons_2016 = cons_2016.drop('Hour_End',axis = 1)"
   ]
  },
  {
   "cell_type": "code",
   "execution_count": 4,
   "metadata": {},
   "outputs": [
    {
     "data": {
      "text/html": [
       "<div>\n",
       "<style scoped>\n",
       "    .dataframe tbody tr th:only-of-type {\n",
       "        vertical-align: middle;\n",
       "    }\n",
       "\n",
       "    .dataframe tbody tr th {\n",
       "        vertical-align: top;\n",
       "    }\n",
       "\n",
       "    .dataframe thead th {\n",
       "        text-align: right;\n",
       "    }\n",
       "</style>\n",
       "<table border=\"1\" class=\"dataframe\">\n",
       "  <thead>\n",
       "    <tr style=\"text-align: right;\">\n",
       "      <th></th>\n",
       "      <th>Time</th>\n",
       "      <th>COAST</th>\n",
       "      <th>EAST</th>\n",
       "      <th>FAR_WEST</th>\n",
       "      <th>NORTH</th>\n",
       "      <th>NORTH_C</th>\n",
       "      <th>SOUTHERN</th>\n",
       "      <th>SOUTH_C</th>\n",
       "      <th>WEST</th>\n",
       "      <th>ERCOT</th>\n",
       "    </tr>\n",
       "  </thead>\n",
       "  <tbody>\n",
       "    <tr>\n",
       "      <th>0</th>\n",
       "      <td>2016-01-01 01:00:00</td>\n",
       "      <td>9001.477932</td>\n",
       "      <td>1148.358788</td>\n",
       "      <td>2107.895986</td>\n",
       "      <td>788.543919</td>\n",
       "      <td>11409.33904</td>\n",
       "      <td>2829.993195</td>\n",
       "      <td>5479.057816</td>\n",
       "      <td>1088.091916</td>\n",
       "      <td>33852.75859</td>\n",
       "    </tr>\n",
       "    <tr>\n",
       "      <th>1</th>\n",
       "      <td>2016-01-01 02:00:00</td>\n",
       "      <td>8864.555456</td>\n",
       "      <td>1134.909662</td>\n",
       "      <td>2100.702470</td>\n",
       "      <td>782.355108</td>\n",
       "      <td>11235.17494</td>\n",
       "      <td>2830.075196</td>\n",
       "      <td>5405.955778</td>\n",
       "      <td>1080.369336</td>\n",
       "      <td>33434.09794</td>\n",
       "    </tr>\n",
       "    <tr>\n",
       "      <th>2</th>\n",
       "      <td>2016-01-01 03:00:00</td>\n",
       "      <td>8745.758728</td>\n",
       "      <td>1126.864026</td>\n",
       "      <td>2099.966167</td>\n",
       "      <td>781.237004</td>\n",
       "      <td>11151.96522</td>\n",
       "      <td>2789.470654</td>\n",
       "      <td>5334.159606</td>\n",
       "      <td>1069.644619</td>\n",
       "      <td>33099.06602</td>\n",
       "    </tr>\n",
       "    <tr>\n",
       "      <th>3</th>\n",
       "      <td>2016-01-01 04:00:00</td>\n",
       "      <td>8689.879755</td>\n",
       "      <td>1129.417663</td>\n",
       "      <td>2104.947864</td>\n",
       "      <td>785.264364</td>\n",
       "      <td>11209.70107</td>\n",
       "      <td>2757.999808</td>\n",
       "      <td>5302.938201</td>\n",
       "      <td>1073.658885</td>\n",
       "      <td>33053.80761</td>\n",
       "    </tr>\n",
       "    <tr>\n",
       "      <th>4</th>\n",
       "      <td>2016-01-01 05:00:00</td>\n",
       "      <td>8733.703094</td>\n",
       "      <td>1141.769602</td>\n",
       "      <td>2117.072608</td>\n",
       "      <td>790.248115</td>\n",
       "      <td>11428.71696</td>\n",
       "      <td>2769.678996</td>\n",
       "      <td>5364.298843</td>\n",
       "      <td>1096.410845</td>\n",
       "      <td>33441.89907</td>\n",
       "    </tr>\n",
       "  </tbody>\n",
       "</table>\n",
       "</div>"
      ],
      "text/plain": [
       "                  Time        COAST         EAST     FAR_WEST       NORTH  \\\n",
       "0  2016-01-01 01:00:00  9001.477932  1148.358788  2107.895986  788.543919   \n",
       "1  2016-01-01 02:00:00  8864.555456  1134.909662  2100.702470  782.355108   \n",
       "2  2016-01-01 03:00:00  8745.758728  1126.864026  2099.966167  781.237004   \n",
       "3  2016-01-01 04:00:00  8689.879755  1129.417663  2104.947864  785.264364   \n",
       "4  2016-01-01 05:00:00  8733.703094  1141.769602  2117.072608  790.248115   \n",
       "\n",
       "       NORTH_C     SOUTHERN      SOUTH_C         WEST        ERCOT  \n",
       "0  11409.33904  2829.993195  5479.057816  1088.091916  33852.75859  \n",
       "1  11235.17494  2830.075196  5405.955778  1080.369336  33434.09794  \n",
       "2  11151.96522  2789.470654  5334.159606  1069.644619  33099.06602  \n",
       "3  11209.70107  2757.999808  5302.938201  1073.658885  33053.80761  \n",
       "4  11428.71696  2769.678996  5364.298843  1096.410845  33441.89907  "
      ]
     },
     "execution_count": 4,
     "metadata": {},
     "output_type": "execute_result"
    }
   ],
   "source": [
    "cons_2016.head()"
   ]
  },
  {
   "cell_type": "code",
   "execution_count": 5,
   "metadata": {
    "scrolled": true
   },
   "outputs": [
    {
     "data": {
      "text/html": [
       "<div>\n",
       "<style scoped>\n",
       "    .dataframe tbody tr th:only-of-type {\n",
       "        vertical-align: middle;\n",
       "    }\n",
       "\n",
       "    .dataframe tbody tr th {\n",
       "        vertical-align: top;\n",
       "    }\n",
       "\n",
       "    .dataframe thead th {\n",
       "        text-align: right;\n",
       "    }\n",
       "</style>\n",
       "<table border=\"1\" class=\"dataframe\">\n",
       "  <thead>\n",
       "    <tr style=\"text-align: right;\">\n",
       "      <th></th>\n",
       "      <th>COAST</th>\n",
       "      <th>EAST</th>\n",
       "      <th>FAR_WEST</th>\n",
       "      <th>NORTH</th>\n",
       "      <th>NORTH_C</th>\n",
       "      <th>SOUTHERN</th>\n",
       "      <th>SOUTH_C</th>\n",
       "      <th>WEST</th>\n",
       "      <th>ERCOT</th>\n",
       "    </tr>\n",
       "  </thead>\n",
       "  <tbody>\n",
       "    <tr>\n",
       "      <th>count</th>\n",
       "      <td>8783.000000</td>\n",
       "      <td>8783.000000</td>\n",
       "      <td>8783.000000</td>\n",
       "      <td>8783.000000</td>\n",
       "      <td>8783.000000</td>\n",
       "      <td>8783.000000</td>\n",
       "      <td>8783.000000</td>\n",
       "      <td>8783.000000</td>\n",
       "      <td>8783.000000</td>\n",
       "    </tr>\n",
       "    <tr>\n",
       "      <th>mean</th>\n",
       "      <td>11694.029194</td>\n",
       "      <td>1398.376129</td>\n",
       "      <td>2142.665562</td>\n",
       "      <td>823.282124</td>\n",
       "      <td>12953.497027</td>\n",
       "      <td>3395.124847</td>\n",
       "      <td>6484.085158</td>\n",
       "      <td>1114.805133</td>\n",
       "      <td>40005.865174</td>\n",
       "    </tr>\n",
       "    <tr>\n",
       "      <th>std</th>\n",
       "      <td>2618.443770</td>\n",
       "      <td>336.877532</td>\n",
       "      <td>217.125434</td>\n",
       "      <td>180.485402</td>\n",
       "      <td>3564.421647</td>\n",
       "      <td>834.567055</td>\n",
       "      <td>1719.714030</td>\n",
       "      <td>224.495884</td>\n",
       "      <td>9437.353767</td>\n",
       "    </tr>\n",
       "    <tr>\n",
       "      <th>min</th>\n",
       "      <td>7531.596105</td>\n",
       "      <td>786.886674</td>\n",
       "      <td>1757.198271</td>\n",
       "      <td>539.001419</td>\n",
       "      <td>7395.146237</td>\n",
       "      <td>1964.335300</td>\n",
       "      <td>3753.032619</td>\n",
       "      <td>741.591051</td>\n",
       "      <td>25106.822890</td>\n",
       "    </tr>\n",
       "    <tr>\n",
       "      <th>25%</th>\n",
       "      <td>9864.625458</td>\n",
       "      <td>1164.010559</td>\n",
       "      <td>1990.008739</td>\n",
       "      <td>698.705770</td>\n",
       "      <td>10586.451310</td>\n",
       "      <td>2771.179928</td>\n",
       "      <td>5323.108989</td>\n",
       "      <td>965.052956</td>\n",
       "      <td>33626.975385</td>\n",
       "    </tr>\n",
       "    <tr>\n",
       "      <th>50%</th>\n",
       "      <td>10991.883820</td>\n",
       "      <td>1320.993281</td>\n",
       "      <td>2096.015909</td>\n",
       "      <td>777.059382</td>\n",
       "      <td>12036.062540</td>\n",
       "      <td>3217.636866</td>\n",
       "      <td>6063.689181</td>\n",
       "      <td>1059.033116</td>\n",
       "      <td>37668.496500</td>\n",
       "    </tr>\n",
       "    <tr>\n",
       "      <th>75%</th>\n",
       "      <td>13186.394025</td>\n",
       "      <td>1565.436261</td>\n",
       "      <td>2252.682225</td>\n",
       "      <td>911.307298</td>\n",
       "      <td>14631.504525</td>\n",
       "      <td>3933.536975</td>\n",
       "      <td>7333.604533</td>\n",
       "      <td>1227.723193</td>\n",
       "      <td>44705.489975</td>\n",
       "    </tr>\n",
       "    <tr>\n",
       "      <th>max</th>\n",
       "      <td>19826.181610</td>\n",
       "      <td>2493.828673</td>\n",
       "      <td>2908.970431</td>\n",
       "      <td>1440.183510</td>\n",
       "      <td>25282.316480</td>\n",
       "      <td>5786.825863</td>\n",
       "      <td>12344.841640</td>\n",
       "      <td>1899.086230</td>\n",
       "      <td>71092.609220</td>\n",
       "    </tr>\n",
       "  </tbody>\n",
       "</table>\n",
       "</div>"
      ],
      "text/plain": [
       "              COAST         EAST     FAR_WEST        NORTH       NORTH_C  \\\n",
       "count   8783.000000  8783.000000  8783.000000  8783.000000   8783.000000   \n",
       "mean   11694.029194  1398.376129  2142.665562   823.282124  12953.497027   \n",
       "std     2618.443770   336.877532   217.125434   180.485402   3564.421647   \n",
       "min     7531.596105   786.886674  1757.198271   539.001419   7395.146237   \n",
       "25%     9864.625458  1164.010559  1990.008739   698.705770  10586.451310   \n",
       "50%    10991.883820  1320.993281  2096.015909   777.059382  12036.062540   \n",
       "75%    13186.394025  1565.436261  2252.682225   911.307298  14631.504525   \n",
       "max    19826.181610  2493.828673  2908.970431  1440.183510  25282.316480   \n",
       "\n",
       "          SOUTHERN       SOUTH_C         WEST         ERCOT  \n",
       "count  8783.000000   8783.000000  8783.000000   8783.000000  \n",
       "mean   3395.124847   6484.085158  1114.805133  40005.865174  \n",
       "std     834.567055   1719.714030   224.495884   9437.353767  \n",
       "min    1964.335300   3753.032619   741.591051  25106.822890  \n",
       "25%    2771.179928   5323.108989   965.052956  33626.975385  \n",
       "50%    3217.636866   6063.689181  1059.033116  37668.496500  \n",
       "75%    3933.536975   7333.604533  1227.723193  44705.489975  \n",
       "max    5786.825863  12344.841640  1899.086230  71092.609220  "
      ]
     },
     "execution_count": 5,
     "metadata": {},
     "output_type": "execute_result"
    }
   ],
   "source": [
    "cons_2016.describe()"
   ]
  },
  {
   "cell_type": "code",
   "execution_count": 6,
   "metadata": {},
   "outputs": [],
   "source": [
    "cons_2016.index = cons_2016['Time']\n",
    "cons_2016 = cons_2016.drop('Time',axis=1)"
   ]
  },
  {
   "cell_type": "code",
   "execution_count": 7,
   "metadata": {},
   "outputs": [
    {
     "data": {
      "text/html": [
       "<div>\n",
       "<style scoped>\n",
       "    .dataframe tbody tr th:only-of-type {\n",
       "        vertical-align: middle;\n",
       "    }\n",
       "\n",
       "    .dataframe tbody tr th {\n",
       "        vertical-align: top;\n",
       "    }\n",
       "\n",
       "    .dataframe thead th {\n",
       "        text-align: right;\n",
       "    }\n",
       "</style>\n",
       "<table border=\"1\" class=\"dataframe\">\n",
       "  <thead>\n",
       "    <tr style=\"text-align: right;\">\n",
       "      <th></th>\n",
       "      <th>COAST</th>\n",
       "      <th>EAST</th>\n",
       "      <th>FAR_WEST</th>\n",
       "      <th>NORTH</th>\n",
       "      <th>NORTH_C</th>\n",
       "      <th>SOUTHERN</th>\n",
       "      <th>SOUTH_C</th>\n",
       "      <th>WEST</th>\n",
       "      <th>ERCOT</th>\n",
       "    </tr>\n",
       "    <tr>\n",
       "      <th>Time</th>\n",
       "      <th></th>\n",
       "      <th></th>\n",
       "      <th></th>\n",
       "      <th></th>\n",
       "      <th></th>\n",
       "      <th></th>\n",
       "      <th></th>\n",
       "      <th></th>\n",
       "      <th></th>\n",
       "    </tr>\n",
       "  </thead>\n",
       "  <tbody>\n",
       "    <tr>\n",
       "      <th>2016-01-01 01:00:00</th>\n",
       "      <td>9001.477932</td>\n",
       "      <td>1148.358788</td>\n",
       "      <td>2107.895986</td>\n",
       "      <td>788.543919</td>\n",
       "      <td>11409.33904</td>\n",
       "      <td>2829.993195</td>\n",
       "      <td>5479.057816</td>\n",
       "      <td>1088.091916</td>\n",
       "      <td>33852.75859</td>\n",
       "    </tr>\n",
       "    <tr>\n",
       "      <th>2016-01-01 02:00:00</th>\n",
       "      <td>8864.555456</td>\n",
       "      <td>1134.909662</td>\n",
       "      <td>2100.702470</td>\n",
       "      <td>782.355108</td>\n",
       "      <td>11235.17494</td>\n",
       "      <td>2830.075196</td>\n",
       "      <td>5405.955778</td>\n",
       "      <td>1080.369336</td>\n",
       "      <td>33434.09794</td>\n",
       "    </tr>\n",
       "    <tr>\n",
       "      <th>2016-01-01 03:00:00</th>\n",
       "      <td>8745.758728</td>\n",
       "      <td>1126.864026</td>\n",
       "      <td>2099.966167</td>\n",
       "      <td>781.237004</td>\n",
       "      <td>11151.96522</td>\n",
       "      <td>2789.470654</td>\n",
       "      <td>5334.159606</td>\n",
       "      <td>1069.644619</td>\n",
       "      <td>33099.06602</td>\n",
       "    </tr>\n",
       "    <tr>\n",
       "      <th>2016-01-01 04:00:00</th>\n",
       "      <td>8689.879755</td>\n",
       "      <td>1129.417663</td>\n",
       "      <td>2104.947864</td>\n",
       "      <td>785.264364</td>\n",
       "      <td>11209.70107</td>\n",
       "      <td>2757.999808</td>\n",
       "      <td>5302.938201</td>\n",
       "      <td>1073.658885</td>\n",
       "      <td>33053.80761</td>\n",
       "    </tr>\n",
       "    <tr>\n",
       "      <th>2016-01-01 05:00:00</th>\n",
       "      <td>8733.703094</td>\n",
       "      <td>1141.769602</td>\n",
       "      <td>2117.072608</td>\n",
       "      <td>790.248115</td>\n",
       "      <td>11428.71696</td>\n",
       "      <td>2769.678996</td>\n",
       "      <td>5364.298843</td>\n",
       "      <td>1096.410845</td>\n",
       "      <td>33441.89907</td>\n",
       "    </tr>\n",
       "  </tbody>\n",
       "</table>\n",
       "</div>"
      ],
      "text/plain": [
       "                           COAST         EAST     FAR_WEST       NORTH  \\\n",
       "Time                                                                     \n",
       "2016-01-01 01:00:00  9001.477932  1148.358788  2107.895986  788.543919   \n",
       "2016-01-01 02:00:00  8864.555456  1134.909662  2100.702470  782.355108   \n",
       "2016-01-01 03:00:00  8745.758728  1126.864026  2099.966167  781.237004   \n",
       "2016-01-01 04:00:00  8689.879755  1129.417663  2104.947864  785.264364   \n",
       "2016-01-01 05:00:00  8733.703094  1141.769602  2117.072608  790.248115   \n",
       "\n",
       "                         NORTH_C     SOUTHERN      SOUTH_C         WEST  \\\n",
       "Time                                                                      \n",
       "2016-01-01 01:00:00  11409.33904  2829.993195  5479.057816  1088.091916   \n",
       "2016-01-01 02:00:00  11235.17494  2830.075196  5405.955778  1080.369336   \n",
       "2016-01-01 03:00:00  11151.96522  2789.470654  5334.159606  1069.644619   \n",
       "2016-01-01 04:00:00  11209.70107  2757.999808  5302.938201  1073.658885   \n",
       "2016-01-01 05:00:00  11428.71696  2769.678996  5364.298843  1096.410845   \n",
       "\n",
       "                           ERCOT  \n",
       "Time                              \n",
       "2016-01-01 01:00:00  33852.75859  \n",
       "2016-01-01 02:00:00  33434.09794  \n",
       "2016-01-01 03:00:00  33099.06602  \n",
       "2016-01-01 04:00:00  33053.80761  \n",
       "2016-01-01 05:00:00  33441.89907  "
      ]
     },
     "execution_count": 7,
     "metadata": {},
     "output_type": "execute_result"
    }
   ],
   "source": [
    "cons_2016.head()"
   ]
  },
  {
   "cell_type": "code",
   "execution_count": 8,
   "metadata": {},
   "outputs": [],
   "source": [
    "# for i in cons_2016.columns.tolist():\n",
    "#     plt.plot(cons_2016[i])"
   ]
  },
  {
   "cell_type": "markdown",
   "metadata": {},
   "source": [
    "Let's see what happens when we just plot everything as is:"
   ]
  },
  {
   "cell_type": "code",
   "execution_count": null,
   "metadata": {},
   "outputs": [
    {
     "data": {
      "text/plain": [
       "[<matplotlib.lines.Line2D at 0x245e689cb70>]"
      ]
     },
     "execution_count": 9,
     "metadata": {},
     "output_type": "execute_result"
    }
   ],
   "source": [
    "plt.plot(cons_2016.index,cons_2016['COAST'])"
   ]
  },
  {
   "cell_type": "code",
   "execution_count": 14,
   "metadata": {},
   "outputs": [
    {
     "data": {
      "text/plain": [
       "['COAST',\n",
       " 'EAST',\n",
       " 'FAR_WEST',\n",
       " 'NORTH',\n",
       " 'NORTH_C',\n",
       " 'SOUTHERN',\n",
       " 'SOUTH_C',\n",
       " 'WEST',\n",
       " 'ERCOT']"
      ]
     },
     "execution_count": 14,
     "metadata": {},
     "output_type": "execute_result"
    }
   ],
   "source": [
    "cons_2016.columns.tolist()"
   ]
  },
  {
   "cell_type": "code",
   "execution_count": 13,
   "metadata": {},
   "outputs": [
    {
     "data": {
      "text/plain": [
       "['COAST',\n",
       " 'EAST',\n",
       " 'FAR_WEST',\n",
       " 'NORTH',\n",
       " 'NORTH_C',\n",
       " 'SOUTHERN',\n",
       " 'SOUTH_C',\n",
       " 'WEST',\n",
       " 'ERCOT']"
      ]
     },
     "execution_count": 13,
     "metadata": {},
     "output_type": "execute_result"
    }
   ],
   "source": [
    "cons_2016.columns.tolist()"
   ]
  },
  {
   "cell_type": "code",
   "execution_count": null,
   "metadata": {},
   "outputs": [],
   "source": []
  }
 ],
 "metadata": {
  "kernelspec": {
   "display_name": "Python 3",
   "language": "python",
   "name": "python3"
  },
  "language_info": {
   "codemirror_mode": {
    "name": "ipython",
    "version": 3
   },
   "file_extension": ".py",
   "mimetype": "text/x-python",
   "name": "python",
   "nbconvert_exporter": "python",
   "pygments_lexer": "ipython3",
   "version": "3.6.5"
  }
 },
 "nbformat": 4,
 "nbformat_minor": 2
}
