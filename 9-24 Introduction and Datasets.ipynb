{
 "cells": [
  {
   "cell_type": "markdown",
   "metadata": {},
   "source": [
    "# DSS - Electrical Grid Project\n",
    "In this project, we aim to use data on electricity consumption, electricity prices, and power outages to build a machine learning model to predict future electricity consumption and power outages."
   ]
  },
  {
   "cell_type": "markdown",
   "metadata": {},
   "source": [
    "So far, I've found several datasets that will work for this project, but they have some limitations. It would be great if we could find some more datasets that might better work for our project."
   ]
  },
  {
   "cell_type": "markdown",
   "metadata": {},
   "source": [
    "### Electricity Consumption Data:\n",
    "\n",
    "https://www.oe.netl.doe.gov/OE417_annual_summary.aspx\n",
    "\n",
    "This dataset contains hourly electricity consumption for different regions in Texas. \n",
    "\n",
    "Pros: This data is very detailed; contains hourly data and is separated by region. Data goes back to 1995.\n",
    "\n",
    "Cons: This data is only for Texas."
   ]
  },
  {
   "cell_type": "markdown",
   "metadata": {},
   "source": [
    "### Electricity Prices Data:\n",
    "\n",
    "http://www.ercot.com/mktinfo/prices (I'm thinking we'll use the \"Historical RTM Load Zone and Hub Prices\" dataset)\n",
    "\n",
    "Also from ERCOT, this dataset contains retail electricity prices for Texas, collected hourly and separated by region.\n",
    "\n",
    "Pros: Very detailed with hourly data and individual regions.\n",
    "\n",
    "Cons: Only goes back to 2013, so we could only do price analyses on ~5 years of data. Also is only for Texas."
   ]
  },
  {
   "cell_type": "markdown",
   "metadata": {},
   "source": [
    "### Power Outage Data\n",
    "\n",
    "http://insideenergy.org/2014/08/18/data-explore-15-years-of-power-outages/ (provides description and partial dataset)\n",
    "\n",
    "https://www.oe.netl.doe.gov/OE417_annual_summary.aspx (full data from Department of Energy)\n",
    "\n",
    "This dataset has all of the publicly reported power outages since 2000. Note that this does not include outages from smaller utilities, who are not required to report outages. \n",
    "\n",
    "Pros: Fairly detailed, contains info on dates, times, locations, possible causes, # customers affected, etc. Contains information for the entire US.\n",
    "\n",
    "Cons: Lots of missing data. Lots of data is in text form, which may be difficult to parse. Still, this is definitely the most comprehensive dataset on power outages that is publicly available."
   ]
  },
  {
   "cell_type": "markdown",
   "metadata": {},
   "source": [
    "### 9/24 Assignment\n",
    "- Find more detailed datasets for electricity consumption and prices if possible. It would nice to be able to do an analysis for either California or the entire United States. If we don't find anything else, that's fine too and we'll just use the Texas data.\n",
    "- Get familiar with basic data science tools. Start looking at DataCamp's introductory Python courses. Feel free to choose what courses to do based on what background knowledge you already have."
   ]
  },
  {
   "cell_type": "code",
   "execution_count": null,
   "metadata": {},
   "outputs": [],
   "source": []
  }
 ],
 "metadata": {
  "kernelspec": {
   "display_name": "Python 3",
   "language": "python",
   "name": "python3"
  },
  "language_info": {
   "codemirror_mode": {
    "name": "ipython",
    "version": 3
   },
   "file_extension": ".py",
   "mimetype": "text/x-python",
   "name": "python",
   "nbconvert_exporter": "python",
   "pygments_lexer": "ipython3",
   "version": "3.6.5"
  }
 },
 "nbformat": 4,
 "nbformat_minor": 2
}
