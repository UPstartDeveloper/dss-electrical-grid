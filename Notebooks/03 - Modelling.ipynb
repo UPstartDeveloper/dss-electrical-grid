{
 "cells": [
  {
   "cell_type": "markdown",
   "metadata": {},
   "source": [
    "# 03 - Modelling"
   ]
  },
  {
   "cell_type": "code",
   "execution_count": 20,
   "metadata": {},
   "outputs": [],
   "source": [
    "import pandas as pd\n",
    "import numpy as np\n",
    "import matplotlib.pyplot as plt\n",
    "%matplotlib inline\n",
    "import datetime as dt\n",
    "plt.rcParams['figure.figsize'] = [18,10]"
   ]
  },
  {
   "cell_type": "markdown",
   "metadata": {},
   "source": [
    "Importing data:"
   ]
  },
  {
   "cell_type": "code",
   "execution_count": 21,
   "metadata": {},
   "outputs": [],
   "source": [
    "austin_w = pd.read_csv('austin_w.csv')\n",
    "austin_w = austin_w.drop('Unnamed: 0',axis = 1)"
   ]
  },
  {
   "cell_type": "code",
   "execution_count": 22,
   "metadata": {},
   "outputs": [],
   "source": [
    "cons_2016 = pd.read_csv('cons_2016.csv')\n",
    "cons_2016 = cons_2016.drop('Unnamed: 0',axis = 1)"
   ]
  },
  {
   "cell_type": "code",
   "execution_count": 104,
   "metadata": {},
   "outputs": [],
   "source": [
    "cons_2017 = pd.read_csv('cons_2017.csv')\n",
    "cons_2017 = cons_2017.drop('Unnamed: 0',axis = 1)"
   ]
  },
  {
   "cell_type": "code",
   "execution_count": 25,
   "metadata": {},
   "outputs": [],
   "source": [
    "cons_2016['Time'] = cons_2016['Time'].apply(lambda x: dt.datetime.strptime(x, '%Y-%m-%d %H:%M:%S'))\n",
    "cons_2016.index = cons_2016['Time']\n",
    "cons_2016 = cons_2016.drop('Time',axis = 1)\n",
    "cons_2016 = cons_2016.drop('Hour_End',axis = 1)"
   ]
  },
  {
   "cell_type": "code",
   "execution_count": 26,
   "metadata": {},
   "outputs": [
    {
     "data": {
      "text/html": [
       "<div>\n",
       "<style scoped>\n",
       "    .dataframe tbody tr th:only-of-type {\n",
       "        vertical-align: middle;\n",
       "    }\n",
       "\n",
       "    .dataframe tbody tr th {\n",
       "        vertical-align: top;\n",
       "    }\n",
       "\n",
       "    .dataframe thead th {\n",
       "        text-align: right;\n",
       "    }\n",
       "</style>\n",
       "<table border=\"1\" class=\"dataframe\">\n",
       "  <thead>\n",
       "    <tr style=\"text-align: right;\">\n",
       "      <th></th>\n",
       "      <th>COAST</th>\n",
       "      <th>EAST</th>\n",
       "      <th>FAR_WEST</th>\n",
       "      <th>NORTH</th>\n",
       "      <th>NORTH_C</th>\n",
       "      <th>SOUTHERN</th>\n",
       "      <th>SOUTH_C</th>\n",
       "      <th>WEST</th>\n",
       "      <th>ERCOT</th>\n",
       "    </tr>\n",
       "    <tr>\n",
       "      <th>Time</th>\n",
       "      <th></th>\n",
       "      <th></th>\n",
       "      <th></th>\n",
       "      <th></th>\n",
       "      <th></th>\n",
       "      <th></th>\n",
       "      <th></th>\n",
       "      <th></th>\n",
       "      <th></th>\n",
       "    </tr>\n",
       "  </thead>\n",
       "  <tbody>\n",
       "    <tr>\n",
       "      <th>2016-01-01 01:00:00</th>\n",
       "      <td>9001.477932</td>\n",
       "      <td>1148.358788</td>\n",
       "      <td>2107.895986</td>\n",
       "      <td>788.543919</td>\n",
       "      <td>11409.33904</td>\n",
       "      <td>2829.993195</td>\n",
       "      <td>5479.057816</td>\n",
       "      <td>1088.091916</td>\n",
       "      <td>33852.75859</td>\n",
       "    </tr>\n",
       "    <tr>\n",
       "      <th>2016-01-01 02:00:00</th>\n",
       "      <td>8864.555456</td>\n",
       "      <td>1134.909662</td>\n",
       "      <td>2100.702470</td>\n",
       "      <td>782.355108</td>\n",
       "      <td>11235.17494</td>\n",
       "      <td>2830.075196</td>\n",
       "      <td>5405.955778</td>\n",
       "      <td>1080.369336</td>\n",
       "      <td>33434.09794</td>\n",
       "    </tr>\n",
       "    <tr>\n",
       "      <th>2016-01-01 03:00:00</th>\n",
       "      <td>8745.758728</td>\n",
       "      <td>1126.864026</td>\n",
       "      <td>2099.966167</td>\n",
       "      <td>781.237004</td>\n",
       "      <td>11151.96522</td>\n",
       "      <td>2789.470654</td>\n",
       "      <td>5334.159606</td>\n",
       "      <td>1069.644619</td>\n",
       "      <td>33099.06602</td>\n",
       "    </tr>\n",
       "    <tr>\n",
       "      <th>2016-01-01 04:00:00</th>\n",
       "      <td>8689.879755</td>\n",
       "      <td>1129.417663</td>\n",
       "      <td>2104.947864</td>\n",
       "      <td>785.264364</td>\n",
       "      <td>11209.70107</td>\n",
       "      <td>2757.999808</td>\n",
       "      <td>5302.938201</td>\n",
       "      <td>1073.658885</td>\n",
       "      <td>33053.80761</td>\n",
       "    </tr>\n",
       "    <tr>\n",
       "      <th>2016-01-01 05:00:00</th>\n",
       "      <td>8733.703094</td>\n",
       "      <td>1141.769602</td>\n",
       "      <td>2117.072608</td>\n",
       "      <td>790.248115</td>\n",
       "      <td>11428.71696</td>\n",
       "      <td>2769.678996</td>\n",
       "      <td>5364.298843</td>\n",
       "      <td>1096.410845</td>\n",
       "      <td>33441.89907</td>\n",
       "    </tr>\n",
       "  </tbody>\n",
       "</table>\n",
       "</div>"
      ],
      "text/plain": [
       "                           COAST         EAST     FAR_WEST       NORTH  \\\n",
       "Time                                                                     \n",
       "2016-01-01 01:00:00  9001.477932  1148.358788  2107.895986  788.543919   \n",
       "2016-01-01 02:00:00  8864.555456  1134.909662  2100.702470  782.355108   \n",
       "2016-01-01 03:00:00  8745.758728  1126.864026  2099.966167  781.237004   \n",
       "2016-01-01 04:00:00  8689.879755  1129.417663  2104.947864  785.264364   \n",
       "2016-01-01 05:00:00  8733.703094  1141.769602  2117.072608  790.248115   \n",
       "\n",
       "                         NORTH_C     SOUTHERN      SOUTH_C         WEST  \\\n",
       "Time                                                                      \n",
       "2016-01-01 01:00:00  11409.33904  2829.993195  5479.057816  1088.091916   \n",
       "2016-01-01 02:00:00  11235.17494  2830.075196  5405.955778  1080.369336   \n",
       "2016-01-01 03:00:00  11151.96522  2789.470654  5334.159606  1069.644619   \n",
       "2016-01-01 04:00:00  11209.70107  2757.999808  5302.938201  1073.658885   \n",
       "2016-01-01 05:00:00  11428.71696  2769.678996  5364.298843  1096.410845   \n",
       "\n",
       "                           ERCOT  \n",
       "Time                              \n",
       "2016-01-01 01:00:00  33852.75859  \n",
       "2016-01-01 02:00:00  33434.09794  \n",
       "2016-01-01 03:00:00  33099.06602  \n",
       "2016-01-01 04:00:00  33053.80761  \n",
       "2016-01-01 05:00:00  33441.89907  "
      ]
     },
     "execution_count": 26,
     "metadata": {},
     "output_type": "execute_result"
    }
   ],
   "source": [
    "cons_2016.head()"
   ]
  },
  {
   "cell_type": "code",
   "execution_count": 27,
   "metadata": {},
   "outputs": [],
   "source": [
    "cons_2016_d = pd.DataFrame(columns = cons_2016.columns.tolist()) #Initialize empty df with sales_amount column\n",
    "\n",
    "\n",
    "for month in range(1,13):\n",
    "    for day in range(1,32):\n",
    "         try:\n",
    "            date = dt.datetime(2016,month,day,0,0,0)\n",
    "            cons_2016_d.loc[dt.datetime(2016,month,day,0,0,0)] = cons_2016[(cons_2016.index.year == 2016) & (cons_2016.index.month == month) & (cons_2016.index.day == day)].sum()\n",
    "         except: \n",
    "             continue\n",
    "        "
   ]
  },
  {
   "cell_type": "code",
   "execution_count": 28,
   "metadata": {},
   "outputs": [],
   "source": [
    "cons_2016_d_sc = cons_2016_d[['SOUTH_C']]"
   ]
  },
  {
   "cell_type": "code",
   "execution_count": 29,
   "metadata": {},
   "outputs": [
    {
     "data": {
      "text/html": [
       "<div>\n",
       "<style scoped>\n",
       "    .dataframe tbody tr th:only-of-type {\n",
       "        vertical-align: middle;\n",
       "    }\n",
       "\n",
       "    .dataframe tbody tr th {\n",
       "        vertical-align: top;\n",
       "    }\n",
       "\n",
       "    .dataframe thead th {\n",
       "        text-align: right;\n",
       "    }\n",
       "</style>\n",
       "<table border=\"1\" class=\"dataframe\">\n",
       "  <thead>\n",
       "    <tr style=\"text-align: right;\">\n",
       "      <th></th>\n",
       "      <th>SOUTH_C</th>\n",
       "    </tr>\n",
       "  </thead>\n",
       "  <tbody>\n",
       "    <tr>\n",
       "      <th>2016-01-01</th>\n",
       "      <td>143236.772053</td>\n",
       "    </tr>\n",
       "    <tr>\n",
       "      <th>2016-01-02</th>\n",
       "      <td>156878.778092</td>\n",
       "    </tr>\n",
       "    <tr>\n",
       "      <th>2016-01-03</th>\n",
       "      <td>140600.293554</td>\n",
       "    </tr>\n",
       "    <tr>\n",
       "      <th>2016-01-04</th>\n",
       "      <td>152014.787298</td>\n",
       "    </tr>\n",
       "    <tr>\n",
       "      <th>2016-01-05</th>\n",
       "      <td>156903.233984</td>\n",
       "    </tr>\n",
       "  </tbody>\n",
       "</table>\n",
       "</div>"
      ],
      "text/plain": [
       "                  SOUTH_C\n",
       "2016-01-01  143236.772053\n",
       "2016-01-02  156878.778092\n",
       "2016-01-03  140600.293554\n",
       "2016-01-04  152014.787298\n",
       "2016-01-05  156903.233984"
      ]
     },
     "execution_count": 29,
     "metadata": {},
     "output_type": "execute_result"
    }
   ],
   "source": [
    "cons_2016_d_sc.head()"
   ]
  },
  {
   "cell_type": "markdown",
   "metadata": {},
   "source": [
    "### Processing weather data:"
   ]
  },
  {
   "cell_type": "code",
   "execution_count": 30,
   "metadata": {},
   "outputs": [],
   "source": [
    "austin_w['DATE'] = austin_w['DATE'].apply(lambda x: dt.datetime.strptime(x, '%Y-%m-%d'))"
   ]
  },
  {
   "cell_type": "code",
   "execution_count": 31,
   "metadata": {},
   "outputs": [],
   "source": [
    "austin_w.index = austin_w['DATE']\n",
    "austin_w = austin_w.drop('DATE',axis=1)"
   ]
  },
  {
   "cell_type": "code",
   "execution_count": 33,
   "metadata": {},
   "outputs": [],
   "source": [
    "austin_w_2016 = austin_w.iloc[0:366]"
   ]
  },
  {
   "cell_type": "code",
   "execution_count": 34,
   "metadata": {},
   "outputs": [
    {
     "data": {
      "text/html": [
       "<div>\n",
       "<style scoped>\n",
       "    .dataframe tbody tr th:only-of-type {\n",
       "        vertical-align: middle;\n",
       "    }\n",
       "\n",
       "    .dataframe tbody tr th {\n",
       "        vertical-align: top;\n",
       "    }\n",
       "\n",
       "    .dataframe thead th {\n",
       "        text-align: right;\n",
       "    }\n",
       "</style>\n",
       "<table border=\"1\" class=\"dataframe\">\n",
       "  <thead>\n",
       "    <tr style=\"text-align: right;\">\n",
       "      <th></th>\n",
       "      <th>PRCP</th>\n",
       "      <th>SNOW</th>\n",
       "      <th>SNWD</th>\n",
       "      <th>TAVG</th>\n",
       "      <th>TMAX</th>\n",
       "      <th>TMIN</th>\n",
       "    </tr>\n",
       "    <tr>\n",
       "      <th>DATE</th>\n",
       "      <th></th>\n",
       "      <th></th>\n",
       "      <th></th>\n",
       "      <th></th>\n",
       "      <th></th>\n",
       "      <th></th>\n",
       "    </tr>\n",
       "  </thead>\n",
       "  <tbody>\n",
       "    <tr>\n",
       "      <th>2016-01-01</th>\n",
       "      <td>0.00</td>\n",
       "      <td>0.0</td>\n",
       "      <td>0.0</td>\n",
       "      <td>47</td>\n",
       "      <td>50</td>\n",
       "      <td>44</td>\n",
       "    </tr>\n",
       "    <tr>\n",
       "      <th>2016-01-02</th>\n",
       "      <td>0.22</td>\n",
       "      <td>0.0</td>\n",
       "      <td>0.0</td>\n",
       "      <td>46</td>\n",
       "      <td>48</td>\n",
       "      <td>43</td>\n",
       "    </tr>\n",
       "    <tr>\n",
       "      <th>2016-01-03</th>\n",
       "      <td>0.00</td>\n",
       "      <td>0.0</td>\n",
       "      <td>0.0</td>\n",
       "      <td>48</td>\n",
       "      <td>61</td>\n",
       "      <td>33</td>\n",
       "    </tr>\n",
       "    <tr>\n",
       "      <th>2016-01-04</th>\n",
       "      <td>0.00</td>\n",
       "      <td>0.0</td>\n",
       "      <td>0.0</td>\n",
       "      <td>44</td>\n",
       "      <td>58</td>\n",
       "      <td>32</td>\n",
       "    </tr>\n",
       "    <tr>\n",
       "      <th>2016-01-05</th>\n",
       "      <td>0.00</td>\n",
       "      <td>0.0</td>\n",
       "      <td>0.0</td>\n",
       "      <td>41</td>\n",
       "      <td>57</td>\n",
       "      <td>29</td>\n",
       "    </tr>\n",
       "  </tbody>\n",
       "</table>\n",
       "</div>"
      ],
      "text/plain": [
       "            PRCP  SNOW  SNWD  TAVG  TMAX  TMIN\n",
       "DATE                                          \n",
       "2016-01-01  0.00   0.0   0.0    47    50    44\n",
       "2016-01-02  0.22   0.0   0.0    46    48    43\n",
       "2016-01-03  0.00   0.0   0.0    48    61    33\n",
       "2016-01-04  0.00   0.0   0.0    44    58    32\n",
       "2016-01-05  0.00   0.0   0.0    41    57    29"
      ]
     },
     "execution_count": 34,
     "metadata": {},
     "output_type": "execute_result"
    }
   ],
   "source": [
    "austin_w_2016.head()"
   ]
  },
  {
   "cell_type": "code",
   "execution_count": 35,
   "metadata": {},
   "outputs": [
    {
     "data": {
      "text/html": [
       "<div>\n",
       "<style scoped>\n",
       "    .dataframe tbody tr th:only-of-type {\n",
       "        vertical-align: middle;\n",
       "    }\n",
       "\n",
       "    .dataframe tbody tr th {\n",
       "        vertical-align: top;\n",
       "    }\n",
       "\n",
       "    .dataframe thead th {\n",
       "        text-align: right;\n",
       "    }\n",
       "</style>\n",
       "<table border=\"1\" class=\"dataframe\">\n",
       "  <thead>\n",
       "    <tr style=\"text-align: right;\">\n",
       "      <th></th>\n",
       "      <th>PRCP</th>\n",
       "      <th>SNOW</th>\n",
       "      <th>SNWD</th>\n",
       "      <th>TAVG</th>\n",
       "      <th>TMAX</th>\n",
       "      <th>TMIN</th>\n",
       "    </tr>\n",
       "    <tr>\n",
       "      <th>DATE</th>\n",
       "      <th></th>\n",
       "      <th></th>\n",
       "      <th></th>\n",
       "      <th></th>\n",
       "      <th></th>\n",
       "      <th></th>\n",
       "    </tr>\n",
       "  </thead>\n",
       "  <tbody>\n",
       "    <tr>\n",
       "      <th>2016-12-27</th>\n",
       "      <td>0.0</td>\n",
       "      <td>0.0</td>\n",
       "      <td>0.0</td>\n",
       "      <td>71</td>\n",
       "      <td>76</td>\n",
       "      <td>59</td>\n",
       "    </tr>\n",
       "    <tr>\n",
       "      <th>2016-12-28</th>\n",
       "      <td>0.0</td>\n",
       "      <td>0.0</td>\n",
       "      <td>0.0</td>\n",
       "      <td>70</td>\n",
       "      <td>85</td>\n",
       "      <td>61</td>\n",
       "    </tr>\n",
       "    <tr>\n",
       "      <th>2016-12-29</th>\n",
       "      <td>0.0</td>\n",
       "      <td>0.0</td>\n",
       "      <td>0.0</td>\n",
       "      <td>65</td>\n",
       "      <td>71</td>\n",
       "      <td>43</td>\n",
       "    </tr>\n",
       "    <tr>\n",
       "      <th>2016-12-30</th>\n",
       "      <td>0.0</td>\n",
       "      <td>0.0</td>\n",
       "      <td>0.0</td>\n",
       "      <td>51</td>\n",
       "      <td>56</td>\n",
       "      <td>47</td>\n",
       "    </tr>\n",
       "    <tr>\n",
       "      <th>2016-12-31</th>\n",
       "      <td>0.0</td>\n",
       "      <td>0.0</td>\n",
       "      <td>0.0</td>\n",
       "      <td>59</td>\n",
       "      <td>79</td>\n",
       "      <td>50</td>\n",
       "    </tr>\n",
       "  </tbody>\n",
       "</table>\n",
       "</div>"
      ],
      "text/plain": [
       "            PRCP  SNOW  SNWD  TAVG  TMAX  TMIN\n",
       "DATE                                          \n",
       "2016-12-27   0.0   0.0   0.0    71    76    59\n",
       "2016-12-28   0.0   0.0   0.0    70    85    61\n",
       "2016-12-29   0.0   0.0   0.0    65    71    43\n",
       "2016-12-30   0.0   0.0   0.0    51    56    47\n",
       "2016-12-31   0.0   0.0   0.0    59    79    50"
      ]
     },
     "execution_count": 35,
     "metadata": {},
     "output_type": "execute_result"
    }
   ],
   "source": [
    "austin_w_2016.tail()"
   ]
  },
  {
   "cell_type": "markdown",
   "metadata": {},
   "source": [
    "### Compiling into single df"
   ]
  },
  {
   "cell_type": "code",
   "execution_count": 39,
   "metadata": {
    "scrolled": false
   },
   "outputs": [],
   "source": [
    "data_2016 = cons_2016_d_sc.copy()\n",
    "data_2016['T_avg'] = austin_w_2016['TAVG']\n",
    "data_2016['T_max'] = austin_w_2016['TMAX']\n",
    "data_2016['T_min'] = austin_w_2016['TMIN']"
   ]
  },
  {
   "cell_type": "code",
   "execution_count": 41,
   "metadata": {},
   "outputs": [
    {
     "data": {
      "text/html": [
       "<div>\n",
       "<style scoped>\n",
       "    .dataframe tbody tr th:only-of-type {\n",
       "        vertical-align: middle;\n",
       "    }\n",
       "\n",
       "    .dataframe tbody tr th {\n",
       "        vertical-align: top;\n",
       "    }\n",
       "\n",
       "    .dataframe thead th {\n",
       "        text-align: right;\n",
       "    }\n",
       "</style>\n",
       "<table border=\"1\" class=\"dataframe\">\n",
       "  <thead>\n",
       "    <tr style=\"text-align: right;\">\n",
       "      <th></th>\n",
       "      <th>SOUTH_C</th>\n",
       "      <th>T_avg</th>\n",
       "      <th>T_max</th>\n",
       "      <th>T_min</th>\n",
       "    </tr>\n",
       "  </thead>\n",
       "  <tbody>\n",
       "    <tr>\n",
       "      <th>2016-01-01</th>\n",
       "      <td>143236.772053</td>\n",
       "      <td>47</td>\n",
       "      <td>50</td>\n",
       "      <td>44</td>\n",
       "    </tr>\n",
       "    <tr>\n",
       "      <th>2016-01-02</th>\n",
       "      <td>156878.778092</td>\n",
       "      <td>46</td>\n",
       "      <td>48</td>\n",
       "      <td>43</td>\n",
       "    </tr>\n",
       "    <tr>\n",
       "      <th>2016-01-03</th>\n",
       "      <td>140600.293554</td>\n",
       "      <td>48</td>\n",
       "      <td>61</td>\n",
       "      <td>33</td>\n",
       "    </tr>\n",
       "    <tr>\n",
       "      <th>2016-01-04</th>\n",
       "      <td>152014.787298</td>\n",
       "      <td>44</td>\n",
       "      <td>58</td>\n",
       "      <td>32</td>\n",
       "    </tr>\n",
       "    <tr>\n",
       "      <th>2016-01-05</th>\n",
       "      <td>156903.233984</td>\n",
       "      <td>41</td>\n",
       "      <td>57</td>\n",
       "      <td>29</td>\n",
       "    </tr>\n",
       "  </tbody>\n",
       "</table>\n",
       "</div>"
      ],
      "text/plain": [
       "                  SOUTH_C  T_avg  T_max  T_min\n",
       "2016-01-01  143236.772053     47     50     44\n",
       "2016-01-02  156878.778092     46     48     43\n",
       "2016-01-03  140600.293554     48     61     33\n",
       "2016-01-04  152014.787298     44     58     32\n",
       "2016-01-05  156903.233984     41     57     29"
      ]
     },
     "execution_count": 41,
     "metadata": {},
     "output_type": "execute_result"
    }
   ],
   "source": [
    "data_2016.head()"
   ]
  },
  {
   "cell_type": "code",
   "execution_count": 43,
   "metadata": {},
   "outputs": [
    {
     "data": {
      "text/plain": [
       "<matplotlib.collections.PathCollection at 0x1f35ad4db70>"
      ]
     },
     "execution_count": 43,
     "metadata": {},
     "output_type": "execute_result"
    },
    {
     "data": {
      "image/png": "[encoded data removed]",
      "text/plain": [
       "<Figure size 1296x720 with 1 Axes>"
      ]
     },
     "metadata": {},
     "output_type": "display_data"
    }
   ],
   "source": [
    "plt.scatter(data_2016['T_avg'],data_2016['SOUTH_C'])"
   ]
  },
  {
   "cell_type": "markdown",
   "metadata": {},
   "source": [
    "## Making model"
   ]
  },
  {
   "cell_type": "code",
   "execution_count": 51,
   "metadata": {},
   "outputs": [],
   "source": [
    "from sklearn.preprocessing import PolynomialFeatures\n",
    "from sklearn.pipeline import make_pipeline\n",
    "from sklearn.linear_model import Ridge"
   ]
  },
  {
   "cell_type": "code",
   "execution_count": 52,
   "metadata": {},
   "outputs": [],
   "source": [
    "model = make_pipeline(PolynomialFeatures(2), Ridge())"
   ]
  },
  {
   "cell_type": "code",
   "execution_count": 53,
   "metadata": {},
   "outputs": [],
   "source": [
    "x = data_2016['T_avg']\n",
    "X = x[:, np.newaxis]"
   ]
  },
  {
   "cell_type": "code",
   "execution_count": 55,
   "metadata": {},
   "outputs": [],
   "source": [
    "y = data_2016['SOUTH_C']"
   ]
  },
  {
   "cell_type": "code",
   "execution_count": 56,
   "metadata": {},
   "outputs": [
    {
     "data": {
      "text/plain": [
       "Pipeline(memory=None,\n",
       "     steps=[('polynomialfeatures', PolynomialFeatures(degree=2, include_bias=True, interaction_only=False)), ('ridge', Ridge(alpha=1.0, copy_X=True, fit_intercept=True, max_iter=None,\n",
       "   normalize=False, random_state=None, solver='auto', tol=0.001))])"
      ]
     },
     "execution_count": 56,
     "metadata": {},
     "output_type": "execute_result"
    }
   ],
   "source": [
    "model.fit(X, y)"
   ]
  },
  {
   "cell_type": "code",
   "execution_count": 58,
   "metadata": {},
   "outputs": [],
   "source": [
    "x_plot = np.linspace(30,90,100)\n",
    "X_plot = x_plot[:, np.newaxis]"
   ]
  },
  {
   "cell_type": "code",
   "execution_count": 59,
   "metadata": {},
   "outputs": [],
   "source": [
    "y_plot = model.predict(X_plot)"
   ]
  },
  {
   "cell_type": "code",
   "execution_count": 66,
   "metadata": {},
   "outputs": [
    {
     "data": {
      "text/plain": [
       "<matplotlib.legend.Legend at 0x1f35f1fc3c8>"
      ]
     },
     "execution_count": 66,
     "metadata": {},
     "output_type": "execute_result"
    },
    {
     "data": {
      "image/png": "[encoded data removed]",
      "text/plain": [
       "<Figure size 1296x720 with 1 Axes>"
      ]
     },
     "metadata": {},
     "output_type": "display_data"
    }
   ],
   "source": [
    "plt.scatter(data_2016['T_avg'],data_2016['SOUTH_C'], label = '2016 data')\n",
    "plt.plot(x_plot, y_plot, color = 'red', linewidth = 2, label = 'Polynomial model, degree = 2')\n",
    "plt.title('Electricity consumption versus average temperature')\n",
    "plt.xlabel('Average daily temperature (F) of Austin, TX')\n",
    "plt.ylabel('Total daily electricity consumption (kWh) of ERCOT South Central Region')\n",
    "plt.legend()"
   ]
  },
  {
   "cell_type": "markdown",
   "metadata": {},
   "source": [
    "## Testing model on 2017 data:"
   ]
  },
  {
   "cell_type": "code",
   "execution_count": 105,
   "metadata": {},
   "outputs": [],
   "source": [
    "cons_2017['Time'] = cons_2017['Time'].apply(lambda x: dt.datetime.strptime(x, '%Y-%m-%d %H:%M:%S'))\n",
    "cons_2017.index = cons_2017['Time']\n",
    "cons_2017 = cons_2017.drop('Time',axis = 1)\n",
    "cons_2017 = cons_2017.drop('Hour_End',axis = 1)\n",
    "cons_2017['SOUTH_C'] = cons_2017['SOUTH_C'].apply(lambda x: x.replace(\",\",\"\"))\n",
    "cons_2017['SOUTH_C'] = cons_2017['SOUTH_C'].apply(lambda x: float(x))"
   ]
  },
  {
   "cell_type": "code",
   "execution_count": 109,
   "metadata": {},
   "outputs": [
    {
     "data": {
      "text/plain": [
       "4490.78"
      ]
     },
     "execution_count": 109,
     "metadata": {},
     "output_type": "execute_result"
    }
   ],
   "source": [
    "cons_2017.iloc[0,6]"
   ]
  },
  {
   "cell_type": "code",
   "execution_count": 110,
   "metadata": {},
   "outputs": [],
   "source": [
    "cons_2017_d = pd.DataFrame(columns = cons_2017.columns.tolist()) #Initialize empty df with sales_amount column\n",
    "\n",
    "\n",
    "for month in range(1,13):\n",
    "    for day in range(1,32):\n",
    "         try:\n",
    "            date = dt.datetime(2017,month,day,0,0,0)\n",
    "            cons_2017_d.loc[dt.datetime(2017,month,day,0,0,0)] = cons_2017[(cons_2017.index.year == 2017) & (cons_2017.index.month == month) & (cons_2017.index.day == day)].sum()\n",
    "         except: \n",
    "             continue\n",
    "        "
   ]
  },
  {
   "cell_type": "code",
   "execution_count": 112,
   "metadata": {},
   "outputs": [
    {
     "data": {
      "text/html": [
       "<div>\n",
       "<style scoped>\n",
       "    .dataframe tbody tr th:only-of-type {\n",
       "        vertical-align: middle;\n",
       "    }\n",
       "\n",
       "    .dataframe tbody tr th {\n",
       "        vertical-align: top;\n",
       "    }\n",
       "\n",
       "    .dataframe thead th {\n",
       "        text-align: right;\n",
       "    }\n",
       "</style>\n",
       "<table border=\"1\" class=\"dataframe\">\n",
       "  <thead>\n",
       "    <tr style=\"text-align: right;\">\n",
       "      <th></th>\n",
       "      <th>COAST</th>\n",
       "      <th>EAST</th>\n",
       "      <th>FAR_WEST</th>\n",
       "      <th>NORTH</th>\n",
       "      <th>NORTH_C</th>\n",
       "      <th>SOUTHERN</th>\n",
       "      <th>SOUTH_C</th>\n",
       "      <th>WEST</th>\n",
       "      <th>ERCOT</th>\n",
       "    </tr>\n",
       "  </thead>\n",
       "  <tbody>\n",
       "    <tr>\n",
       "      <th>2017-01-01</th>\n",
       "      <td>8,791.798,569.718,326.438,137.508,011.877,978....</td>\n",
       "      <td>896.75865.93839.05822.83814.02823.42844.95874....</td>\n",
       "      <td>1,997.721,997.781,993.701,995.541,995.251,981....</td>\n",
       "      <td>683.62677.97672675.27663.62669.75684.49710.237...</td>\n",
       "      <td>9,239.159,105.008,988.048,979.159,033.559,195....</td>\n",
       "      <td>2,366.632,332.742,237.512,178.102,133.952,122....</td>\n",
       "      <td>109475.94</td>\n",
       "      <td>954.19951.03944.36943.19954.94972.56993.641,01...</td>\n",
       "      <td>29,420.6428,870.8128,211.7227,820.2927,628.962...</td>\n",
       "    </tr>\n",
       "    <tr>\n",
       "      <th>2017-01-02</th>\n",
       "      <td>9,287.708,836.838,588.178,480.788,506.028,644....</td>\n",
       "      <td>907.88860.94825.61808.31806.16814.8844.26892.2...</td>\n",
       "      <td>2,025.361,999.532,002.332,006.882,020.302,053....</td>\n",
       "      <td>629.61609.44595.98592.78593.53605.85624.76653....</td>\n",
       "      <td>9,152.378,568.228,163.607,917.047,850.377,966....</td>\n",
       "      <td>2,651.382,496.372,395.272,322.752,288.872,283....</td>\n",
       "      <td>120006.52</td>\n",
       "      <td>884.61882.15859.63851.11850.29860.01894.31955....</td>\n",
       "      <td>30,108.5328,505.9027,488.5626,919.2026,832.562...</td>\n",
       "    </tr>\n",
       "    <tr>\n",
       "      <th>2017-01-03</th>\n",
       "      <td>8,935.498,516.598,238.188,102.788,094.308,265....</td>\n",
       "      <td>928.88903.05881.61874.08882.69903.46980.231,12...</td>\n",
       "      <td>2,127.652,076.282,063.202,068.392,074.232,084....</td>\n",
       "      <td>631.24618.6610.37609.21617.25636.96683.26762.5...</td>\n",
       "      <td>9,132.168,581.188,237.558,099.938,149.138,438....</td>\n",
       "      <td>2,584.822,353.142,218.322,146.362,119.982,140....</td>\n",
       "      <td>126512.40</td>\n",
       "      <td>935.05901.62889.44889.48899.07924.03993.961,11...</td>\n",
       "      <td>29,898.2928,269.6427,279.2626,878.2926,976.522...</td>\n",
       "    </tr>\n",
       "    <tr>\n",
       "      <th>2017-01-04</th>\n",
       "      <td>8,916.948,461.968,316.488,259.588,336.288,636....</td>\n",
       "      <td>1,190.791,179.511,181.021,195.411,274.481,341....</td>\n",
       "      <td>2,153.072,150.722,152.242,162.182,174.452,195....</td>\n",
       "      <td>878.09859.4862.63869.85882.15913.62968.461,052...</td>\n",
       "      <td>12,871.9012,556.7412,521.4712,679.1113,006.591...</td>\n",
       "      <td>2,522.192,305.042,192.582,142.842,119.692,159....</td>\n",
       "      <td>150783.28</td>\n",
       "      <td>1,074.621,046.701,051.491,065.991,085.701,123....</td>\n",
       "      <td>34,549.0133,266.8732,946.9233,018.7033,664.343...</td>\n",
       "    </tr>\n",
       "    <tr>\n",
       "      <th>2017-01-05</th>\n",
       "      <td>9,784.509,471.979,198.329,051.129,031.149,237....</td>\n",
       "      <td>1,420.721,310.981,330.231,255.151,270.871,319....</td>\n",
       "      <td>2,204.782,207.562,190.112,186.922,193.172,205....</td>\n",
       "      <td>906.58894.05887.25891.17899.4924.94966.791,041...</td>\n",
       "      <td>14,223.0213,679.1113,471.3413,393.5913,484.361...</td>\n",
       "      <td>2,687.712,545.852,439.732,388.452,355.452,370....</td>\n",
       "      <td>146240.26</td>\n",
       "      <td>1,158.381,122.661,108.751,108.881,108.901,127....</td>\n",
       "      <td>38,519.0737,044.7836,207.1035,702.8935,733.563...</td>\n",
       "    </tr>\n",
       "  </tbody>\n",
       "</table>\n",
       "</div>"
      ],
      "text/plain": [
       "                                                        COAST  \\\n",
       "2017-01-01  8,791.798,569.718,326.438,137.508,011.877,978....   \n",
       "2017-01-02  9,287.708,836.838,588.178,480.788,506.028,644....   \n",
       "2017-01-03  8,935.498,516.598,238.188,102.788,094.308,265....   \n",
       "2017-01-04  8,916.948,461.968,316.488,259.588,336.288,636....   \n",
       "2017-01-05  9,784.509,471.979,198.329,051.129,031.149,237....   \n",
       "\n",
       "                                                         EAST  \\\n",
       "2017-01-01  896.75865.93839.05822.83814.02823.42844.95874....   \n",
       "2017-01-02  907.88860.94825.61808.31806.16814.8844.26892.2...   \n",
       "2017-01-03  928.88903.05881.61874.08882.69903.46980.231,12...   \n",
       "2017-01-04  1,190.791,179.511,181.021,195.411,274.481,341....   \n",
       "2017-01-05  1,420.721,310.981,330.231,255.151,270.871,319....   \n",
       "\n",
       "                                                     FAR_WEST  \\\n",
       "2017-01-01  1,997.721,997.781,993.701,995.541,995.251,981....   \n",
       "2017-01-02  2,025.361,999.532,002.332,006.882,020.302,053....   \n",
       "2017-01-03  2,127.652,076.282,063.202,068.392,074.232,084....   \n",
       "2017-01-04  2,153.072,150.722,152.242,162.182,174.452,195....   \n",
       "2017-01-05  2,204.782,207.562,190.112,186.922,193.172,205....   \n",
       "\n",
       "                                                        NORTH  \\\n",
       "2017-01-01  683.62677.97672675.27663.62669.75684.49710.237...   \n",
       "2017-01-02  629.61609.44595.98592.78593.53605.85624.76653....   \n",
       "2017-01-03  631.24618.6610.37609.21617.25636.96683.26762.5...   \n",
       "2017-01-04  878.09859.4862.63869.85882.15913.62968.461,052...   \n",
       "2017-01-05  906.58894.05887.25891.17899.4924.94966.791,041...   \n",
       "\n",
       "                                                      NORTH_C  \\\n",
       "2017-01-01  9,239.159,105.008,988.048,979.159,033.559,195....   \n",
       "2017-01-02  9,152.378,568.228,163.607,917.047,850.377,966....   \n",
       "2017-01-03  9,132.168,581.188,237.558,099.938,149.138,438....   \n",
       "2017-01-04  12,871.9012,556.7412,521.4712,679.1113,006.591...   \n",
       "2017-01-05  14,223.0213,679.1113,471.3413,393.5913,484.361...   \n",
       "\n",
       "                                                     SOUTHERN    SOUTH_C  \\\n",
       "2017-01-01  2,366.632,332.742,237.512,178.102,133.952,122....  109475.94   \n",
       "2017-01-02  2,651.382,496.372,395.272,322.752,288.872,283....  120006.52   \n",
       "2017-01-03  2,584.822,353.142,218.322,146.362,119.982,140....  126512.40   \n",
       "2017-01-04  2,522.192,305.042,192.582,142.842,119.692,159....  150783.28   \n",
       "2017-01-05  2,687.712,545.852,439.732,388.452,355.452,370....  146240.26   \n",
       "\n",
       "                                                         WEST  \\\n",
       "2017-01-01  954.19951.03944.36943.19954.94972.56993.641,01...   \n",
       "2017-01-02  884.61882.15859.63851.11850.29860.01894.31955....   \n",
       "2017-01-03  935.05901.62889.44889.48899.07924.03993.961,11...   \n",
       "2017-01-04  1,074.621,046.701,051.491,065.991,085.701,123....   \n",
       "2017-01-05  1,158.381,122.661,108.751,108.881,108.901,127....   \n",
       "\n",
       "                                                        ERCOT  \n",
       "2017-01-01  29,420.6428,870.8128,211.7227,820.2927,628.962...  \n",
       "2017-01-02  30,108.5328,505.9027,488.5626,919.2026,832.562...  \n",
       "2017-01-03  29,898.2928,269.6427,279.2626,878.2926,976.522...  \n",
       "2017-01-04  34,549.0133,266.8732,946.9233,018.7033,664.343...  \n",
       "2017-01-05  38,519.0737,044.7836,207.1035,702.8935,733.563...  "
      ]
     },
     "execution_count": 112,
     "metadata": {},
     "output_type": "execute_result"
    }
   ],
   "source": [
    "cons_2017_d.head() #we don't care that the other regions are strings for now, we're just looking at south central region."
   ]
  },
  {
   "cell_type": "code",
   "execution_count": 113,
   "metadata": {},
   "outputs": [],
   "source": [
    "cons_2017_d_sc = cons_2017_d[['SOUTH_C']]"
   ]
  },
  {
   "cell_type": "code",
   "execution_count": 73,
   "metadata": {},
   "outputs": [],
   "source": [
    "austin_w_2017 = austin_w.iloc[366:]"
   ]
  },
  {
   "cell_type": "code",
   "execution_count": 114,
   "metadata": {},
   "outputs": [],
   "source": [
    "data_2017 = cons_2017_d_sc.copy()\n",
    "data_2017['T_avg'] = austin_w_2017['TAVG']\n",
    "data_2017['T_max'] = austin_w_2017['TMAX']\n",
    "data_2017['T_min'] = austin_w_2017['TMIN']"
   ]
  },
  {
   "cell_type": "code",
   "execution_count": 116,
   "metadata": {},
   "outputs": [
    {
     "data": {
      "text/html": [
       "<div>\n",
       "<style scoped>\n",
       "    .dataframe tbody tr th:only-of-type {\n",
       "        vertical-align: middle;\n",
       "    }\n",
       "\n",
       "    .dataframe tbody tr th {\n",
       "        vertical-align: top;\n",
       "    }\n",
       "\n",
       "    .dataframe thead th {\n",
       "        text-align: right;\n",
       "    }\n",
       "</style>\n",
       "<table border=\"1\" class=\"dataframe\">\n",
       "  <thead>\n",
       "    <tr style=\"text-align: right;\">\n",
       "      <th></th>\n",
       "      <th>SOUTH_C</th>\n",
       "      <th>T_avg</th>\n",
       "      <th>T_max</th>\n",
       "      <th>T_min</th>\n",
       "    </tr>\n",
       "  </thead>\n",
       "  <tbody>\n",
       "    <tr>\n",
       "      <th>2017-01-01</th>\n",
       "      <td>109475.94</td>\n",
       "      <td>61</td>\n",
       "      <td>76</td>\n",
       "      <td>49</td>\n",
       "    </tr>\n",
       "    <tr>\n",
       "      <th>2017-01-02</th>\n",
       "      <td>120006.52</td>\n",
       "      <td>63</td>\n",
       "      <td>77</td>\n",
       "      <td>53</td>\n",
       "    </tr>\n",
       "    <tr>\n",
       "      <th>2017-01-03</th>\n",
       "      <td>126512.40</td>\n",
       "      <td>58</td>\n",
       "      <td>77</td>\n",
       "      <td>38</td>\n",
       "    </tr>\n",
       "    <tr>\n",
       "      <th>2017-01-04</th>\n",
       "      <td>150783.28</td>\n",
       "      <td>46</td>\n",
       "      <td>48</td>\n",
       "      <td>33</td>\n",
       "    </tr>\n",
       "    <tr>\n",
       "      <th>2017-01-05</th>\n",
       "      <td>146240.26</td>\n",
       "      <td>49</td>\n",
       "      <td>64</td>\n",
       "      <td>36</td>\n",
       "    </tr>\n",
       "  </tbody>\n",
       "</table>\n",
       "</div>"
      ],
      "text/plain": [
       "              SOUTH_C  T_avg  T_max  T_min\n",
       "2017-01-01  109475.94     61     76     49\n",
       "2017-01-02  120006.52     63     77     53\n",
       "2017-01-03  126512.40     58     77     38\n",
       "2017-01-04  150783.28     46     48     33\n",
       "2017-01-05  146240.26     49     64     36"
      ]
     },
     "execution_count": 116,
     "metadata": {},
     "output_type": "execute_result"
    }
   ],
   "source": [
    "data_2017.head()"
   ]
  },
  {
   "cell_type": "code",
   "execution_count": 121,
   "metadata": {},
   "outputs": [
    {
     "data": {
      "text/plain": [
       "<matplotlib.legend.Legend at 0x1f3607d6d68>"
      ]
     },
     "execution_count": 121,
     "metadata": {},
     "output_type": "execute_result"
    },
    {
     "data": {
      "image/png": "[encoded data removed]",
      "text/plain": [
       "<Figure size 1296x720 with 1 Axes>"
      ]
     },
     "metadata": {},
     "output_type": "display_data"
    }
   ],
   "source": [
    "plt.scatter(data_2017['T_avg'],data_2017['SOUTH_C'], label = '2016 data',color = 'lime')\n",
    "plt.plot(x_plot, y_plot, color = 'red', linewidth = 2, label = 'Polynomial model based on 2016 data, degree = 2')\n",
    "plt.title('Electricity consumption versus average temperature: predicting 2017 consumption')\n",
    "plt.xlabel('Average daily temperature (F) of Austin, TX')\n",
    "plt.ylabel('Total daily electricity consumption (kWh) of ERCOT South Central Region')\n",
    "plt.legend()"
   ]
  },
  {
   "cell_type": "code",
   "execution_count": null,
   "metadata": {},
   "outputs": [],
   "source": []
  }
 ],
 "metadata": {
  "kernelspec": {
   "display_name": "Python 3",
   "language": "python",
   "name": "python3"
  },
  "language_info": {
   "codemirror_mode": {
    "name": "ipython",
    "version": 3
   },
   "file_extension": ".py",
   "mimetype": "text/x-python",
   "name": "python",
   "nbconvert_exporter": "python",
   "pygments_lexer": "ipython3",
   "version": "3.6.5"
  }
 },
 "nbformat": 4,
 "nbformat_minor": 2
}
